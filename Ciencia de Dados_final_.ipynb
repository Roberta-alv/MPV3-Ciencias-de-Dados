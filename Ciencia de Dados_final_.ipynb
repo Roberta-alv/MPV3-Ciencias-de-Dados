{
 "cells": [
  {
   "cell_type": "markdown",
   "metadata": {
    "application/vnd.databricks.v1+cell": {
     "cellMetadata": {
      "byteLimit": 2048000,
      "rowLimit": 10000
     },
     "inputWidgets": {},
     "nuid": "7d0350b4-ccaf-4924-b6be-62f0b4afd75e",
     "showTitle": false,
     "tableResultSettingsMap": {},
     "title": ""
    }
   },
   "source": [
    "### Uma Tendências Virais nas Redes Sociais e Engajamento"
   ]
  },
  {
   "cell_type": "markdown",
   "metadata": {
    "application/vnd.databricks.v1+cell": {
     "cellMetadata": {
      "byteLimit": 2048000,
      "rowLimit": 10000
     },
     "inputWidgets": {},
     "nuid": "9629f74c-2760-4e59-9f49-d0a431a668f4",
     "showTitle": false,
     "tableResultSettingsMap": {},
     "title": ""
    }
   },
   "source": [
    "**Nome: Roberta Alvarez Martins**\n",
    "\n",
    "### 1- OBJETIVO\n",
    "### \n",
    "\n",
    "Temos dois problemas a serem resolvidos com esse trabalho:\n",
    "\n",
    "1.**Qual plataforma dá mais engajamento?**\n",
    "Problema: Como o engajamento (Views, Likes, Shares e Comments) varia entre diferentes plataformas (TikTok, Instagram, Twitter, YouTube)?\n",
    "\n",
    "Objetivo: Entender qual plataforma gera mais engajamento\n",
    "\n",
    "\n",
    "\n",
    "2.**Identificação de Hashtags com Maior Impacto**\n",
    "Problema: Quais hashtags estão associadas aos posts com maior engajamento (views, likes, shares, e comments)?\n",
    "\n",
    "Objetivo: Identificar hashtags populares que estão impulsionando o engajamento e entender quais tendências estão por trás dessas hashtags.\n"
   ]
  },
  {
   "cell_type": "markdown",
   "metadata": {
    "application/vnd.databricks.v1+cell": {
     "cellMetadata": {
      "byteLimit": 2048000,
      "rowLimit": 10000
     },
     "inputWidgets": {},
     "nuid": "a67eba35-7dc9-437f-8cd5-099a0511e4ef",
     "showTitle": false,
     "tableResultSettingsMap": {},
     "title": ""
    }
   },
   "source": [
    "### 2-**Descrição resumida dos dados**\n",
    "\n",
    "O dataset contém registros de posts em redes sociais, abrangendo plataformas como TikTok, Instagram, Twitter e YouTube. Cada entrada inclui informações como ID do post, plataforma, hashtag associada, tipo de conteúdo (vídeo, postagem, etc.), região de origem, métricas de engajamento (visualizações, curtidas, compartilhamentos, comentários) e nível de engajamento (alto, médio, baixo). Os dados são variados, cobrindo diferentes categorias de conteúdo (desafios, educação, dança, jogos, etc.) e regiões globais (como Brasil, Índia, EUA, Reino Unido, entre outros)\n",
    "\n",
    "**Número total de linhas (posts)**: 1,644 (incluindo o cabeçalho)\n",
    "\n",
    "**Número total de colunas**: 10\n",
    "\n",
    "**Abaixo as descrições das colunas do DATASET : **\n",
    "\n",
    "**Post_ID**– Identificador único do post (ex: Post_1, Post_2).\n",
    "\n",
    "**Platform **– Plataforma onde o post foi publicado (ex: TikTok, Instagram, Twitter, YouTube).\n",
    "\n",
    "**Hashtag** – Hashtag principal associada ao post (ex: #Challenge, #Education, #Dance).\n",
    "\n",
    "**Content_Type** – Tipo de conteúdo do post (ex: Video, Shorts, Post, Live Stream, Reel, Tweet).\n",
    "\n",
    "**Region** – País ou região de origem do post (ex: UK, India, Brazil, USA, Japan).\n",
    "\n",
    "**Views** – Número de visualizações do post (valor numérico).\n",
    "\n",
    "**Likes** – Número de curtidas recebidas (valor numérico).\n",
    "\n",
    "**Shares** – Número de compartilhamentos (valor numérico).\n",
    "\n",
    "**Comments** – Número de comentários (valor numérico).\n",
    "\n",
    "**Engagement_Level** – Classificação do engajamento do post (High, Medium, Low), provavelmente baseada em métricas combinadas de curtidas, compartilhamentos e comentários.\n",
    "\n",
    "Valores Mínimos e Máximos das Métricas Numéricas\n",
    "\n",
    "Métrica\tvalor mínimo e máximo:\n",
    "\n",
    "**Views** Min:6.86\tMax: 4.977.438\t\n",
    "\n",
    "\n",
    "**Likes**\tMin 863\tMax : 496.078\t\n",
    "\n",
    "**Shares**\tMin 80\tMax 99.754\t\n",
    "\n",
    "**Comments**\tMin 18\tMax 49.197\n",
    "\n",
    "## **OBS:Não foi necessário fazer transformação nos dados pois a tabela estava perfeita, sem valores brancos, nulos ou inválidos\n",
    "## **"
   ]
  },
  {
   "cell_type": "markdown",
   "metadata": {
    "application/vnd.databricks.v1+cell": {
     "cellMetadata": {
      "byteLimit": 2048000,
      "rowLimit": 10000
     },
     "inputWidgets": {},
     "nuid": "17428355-e76f-4b98-ad29-d527743e118d",
     "showTitle": false,
     "tableResultSettingsMap": {},
     "title": ""
    }
   },
   "source": [
    "### **3- Busca pelos DADOS**\n",
    "\n",
    "Fonte dos dados:\n",
    "Utilizarei o arquivo \"Viral_Social_Media_Trends.csv\" O conjunto de dados foi baixado do Site Kaggle. Link para os Dados: https://www.kaggle.com/datasets/atharvasoundankar/viral-social-media-trends-and-engagement-analysis/data"
   ]
  },
  {
   "cell_type": "markdown",
   "metadata": {
    "application/vnd.databricks.v1+cell": {
     "cellMetadata": {
      "byteLimit": 2048000,
      "rowLimit": 10000
     },
     "inputWidgets": {},
     "nuid": "a35332a5-5b51-42f9-8e4c-a2a7176773f7",
     "showTitle": false,
     "tableResultSettingsMap": {},
     "title": ""
    }
   },
   "source": [
    "### **4. Coleta**\n",
    "Os dados foram baixados do Kaggle e armazenados localmente. Posteriormente, foram carregados para o Databricks File System (DBFS) para facilitar o processamento e a análise na nuvem.\n",
    "\n",
    "Fonte dos Dados: Kaggle\n",
    "\n",
    "Local de Armazenamento: dbfs:/FileStore/mvp/Viral_Social_Media_Trends.csv\n",
    "\n",
    "Licença de Uso: Licença Kaggle"
   ]
  },
  {
   "cell_type": "markdown",
   "metadata": {
    "application/vnd.databricks.v1+cell": {
     "cellMetadata": {
      "byteLimit": 2048000,
      "rowLimit": 10000
     },
     "inputWidgets": {},
     "nuid": "016a13c9-d551-4deb-9335-405c314f8cc0",
     "showTitle": false,
     "tableResultSettingsMap": {},
     "title": ""
    }
   },
   "source": [
    "### 4.1-  Código para coleta e armazenamento:\n",
    "### \n"
   ]
  },
  {
   "cell_type": "code",
   "execution_count": 0,
   "metadata": {
    "application/vnd.databricks.v1+cell": {
     "cellMetadata": {
      "byteLimit": 2048000,
      "rowLimit": 10000
     },
     "inputWidgets": {},
     "nuid": "d3f0d95b-1860-4679-93dd-a2590f4c0386",
     "showTitle": false,
     "tableResultSettingsMap": {},
     "title": ""
    }
   },
   "outputs": [
    {
     "output_type": "stream",
     "name": "stdout",
     "output_type": "stream",
     "text": [
      "+-------+---------+----------+------------+---------+-------+------+------+--------+----------------+\n|Post_ID| Platform|   Hashtag|Content_Type|   Region|  Views| Likes|Shares|Comments|Engagement_Level|\n+-------+---------+----------+------------+---------+-------+------+------+--------+----------------+\n| Post_1|   TikTok|#Challenge|       Video|       UK|4163464|339431| 53135|   19346|            High|\n| Post_2|Instagram|#Education|      Shorts|    India|4155940|215240| 65860|   27239|          Medium|\n| Post_3|  Twitter|#Challenge|       Video|   Brazil|3666211|327143| 39423|   36223|          Medium|\n| Post_4|  YouTube|#Education|      Shorts|Australia| 917951|127125| 11687|   36806|             Low|\n| Post_5|   TikTok|    #Dance|        Post|   Brazil|  64866|171361| 69581|    6376|          Medium|\n+-------+---------+----------+------------+---------+-------+------+------+--------+----------------+\nonly showing top 5 rows\n\nroot\n |-- Post_ID: string (nullable = true)\n |-- Platform: string (nullable = true)\n |-- Hashtag: string (nullable = true)\n |-- Content_Type: string (nullable = true)\n |-- Region: string (nullable = true)\n |-- Views: integer (nullable = true)\n |-- Likes: integer (nullable = true)\n |-- Shares: integer (nullable = true)\n |-- Comments: integer (nullable = true)\n |-- Engagement_Level: string (nullable = true)\n\n+-------+---------+----------+------------+---------+-------+------+------+--------+----------------+\n|Post_ID| Platform|   Hashtag|Content_Type|   Region|  Views| Likes|Shares|Comments|Engagement_Level|\n+-------+---------+----------+------------+---------+-------+------+------+--------+----------------+\n| Post_1|   TikTok|#Challenge|       Video|       UK|4163464|339431| 53135|   19346|            High|\n| Post_2|Instagram|#Education|      Shorts|    India|4155940|215240| 65860|   27239|          Medium|\n| Post_3|  Twitter|#Challenge|       Video|   Brazil|3666211|327143| 39423|   36223|          Medium|\n| Post_4|  YouTube|#Education|      Shorts|Australia| 917951|127125| 11687|   36806|             Low|\n| Post_5|   TikTok|    #Dance|        Post|   Brazil|  64866|171361| 69581|    6376|          Medium|\n+-------+---------+----------+------------+---------+-------+------+------+--------+----------------+\nonly showing top 5 rows\n\nroot\n |-- Post_ID: string (nullable = true)\n |-- Platform: string (nullable = true)\n |-- Hashtag: string (nullable = true)\n |-- Content_Type: string (nullable = true)\n |-- Region: string (nullable = true)\n |-- Views: integer (nullable = true)\n |-- Likes: integer (nullable = true)\n |-- Shares: integer (nullable = true)\n |-- Comments: integer (nullable = true)\n |-- Engagement_Level: string (nullable = true)\n\n"
     ]
    }
   ],
   "source": [
    "# Definir o caminho do arquivo CSV no Databricks\n",
    "file_path = 'dbfs:/FileStore/mvp/Viral_Social_Media_Trends.csv'\n",
    "\n",
    "# Carregar o dataset do arquivo CSV para um DataFrame do Spark\n",
    "df = spark.read.option(\"header\", \"true\").csv(file_path)\n",
    "\n",
    "# Mostrar as primeiras linhas do dataset para verificar se a carga foi bem-sucedida\n",
    "df.show(5)\n",
    "\n",
    "# Conversão de colunas numéricas (Views, Likes, Shares, Comments) para o tipo apropriado\n",
    "df = df.withColumn(\"Views\", df[\"Views\"].cast(\"int\"))\n",
    "df = df.withColumn(\"Likes\", df[\"Likes\"].cast(\"int\"))\n",
    "df = df.withColumn(\"Shares\", df[\"Shares\"].cast(\"int\"))\n",
    "df = df.withColumn(\"Comments\", df[\"Comments\"].cast(\"int\"))\n",
    "\n",
    "# Exibir o esquema do DataFrame para verificar os tipos de dados\n",
    "df.printSchema()\n",
    "\n",
    "# Definir o caminho para armazenamento no formato Delta\n",
    "delta_storage_path = '/mnt/delta/viral_social_media_data'\n",
    "\n",
    "# Salvar os dados em formato Delta no Databricks (permite consultas eficientes e escaláveis)\n",
    "df.write.format(\"delta\").mode(\"overwrite\").save(delta_storage_path)\n",
    "\n",
    "# Para garantir que o Delta Lake foi configurado corretamente, você pode ler os dados novamente e verificar\n",
    "df_delta = spark.read.format(\"delta\").load(delta_storage_path)\n",
    "df_delta.show(5)\n",
    "\n",
    "# Exibir o esquema dos dados armazenados no Delta Lake\n",
    "df_delta.printSchema()\n"
   ]
  },
  {
   "cell_type": "markdown",
   "metadata": {
    "application/vnd.databricks.v1+cell": {
     "cellMetadata": {
      "byteLimit": 2048000,
      "rowLimit": 10000
     },
     "inputWidgets": {},
     "nuid": "874b1f14-efbb-4a20-a8db-9219dc7b105f",
     "showTitle": false,
     "tableResultSettingsMap": {},
     "title": ""
    }
   },
   "source": [
    "## 5. Modelagem\n",
    "Para facilitar a análise dos dados, vou construir um modelo de dados em Esquema Estrela. Isso inclui criar tabelas de fatos e dimensões.\n",
    "\n",
    "**Tabela de Fato: fact_post_engagement**\n",
    "\n",
    "Propósito: Armazenar as métricas quantitativas de desempenho dos posts em redes sociais, servindo como base para análises de engajamento.\n",
    "\n",
    "Características:\n",
    "\n",
    "- Contém dados numéricos brutos e métricas calculadas\n",
    "\n",
    "- Todas as colunas são não-nulas (integridade garantida)\n",
    "\n",
    "- Relacionada com 4 tabelas de dimensão via chaves estrangeiras\n",
    "\n",
    "- Típico volume: milhões de registros (dependendo do período analisado)\n",
    "\n",
    "**Tabelas de Dimensão:**\n",
    "\n",
    "1. dim_platform\n",
    "Descrição: Cataloga as plataformas de redes sociais analisadas.\n",
    "\n",
    "2. dim_hashtag\n",
    "Descrição: Registra todas as hashtags encontradas nos posts.\n",
    "\n",
    "3. dim_content_type\n",
    "Descrição: Classifica os formatos de conteúdo publicados.\n",
    "\n",
    "4. dim_region\n",
    "Descrição: Armazena dados geográficos dos usuários( países)"
   ]
  },
  {
   "cell_type": "markdown",
   "metadata": {
    "application/vnd.databricks.v1+cell": {
     "cellMetadata": {
      "byteLimit": 2048000,
      "rowLimit": 10000
     },
     "inputWidgets": {},
     "nuid": "073151d4-92b8-4d47-a515-7bfd0b8f6de2",
     "showTitle": false,
     "tableResultSettingsMap": {},
     "title": ""
    }
   },
   "source": [
    "1. **Criar Tabelas de Dimensões no Databricks**"
   ]
  },
  {
   "cell_type": "code",
   "execution_count": 0,
   "metadata": {
    "application/vnd.databricks.v1+cell": {
     "cellMetadata": {
      "byteLimit": 2048000,
      "rowLimit": 10000
     },
     "inputWidgets": {},
     "nuid": "e8bf44aa-546a-4f05-a51a-31cbd9bb1805",
     "showTitle": false,
     "tableResultSettingsMap": {},
     "title": ""
    }
   },
   "outputs": [],
   "source": [
    "dim_platform = spark.createDataFrame([\n",
    "    (\"platform_id\", \"int\"),      # PK\n",
    "    (\"platform_name\", \"string\"), # TikTok, Instagram, Twitter, YouTube\n",
    "    (\"platform_type\", \"string\")  # Rede social, Vídeo, etc.\n",
    "], [\"column\", \"type\"])"
   ]
  },
  {
   "cell_type": "code",
   "execution_count": 0,
   "metadata": {
    "application/vnd.databricks.v1+cell": {
     "cellMetadata": {
      "byteLimit": 2048000,
      "rowLimit": 10000
     },
     "inputWidgets": {},
     "nuid": "c6bca4ae-452e-4c04-8fc2-679b3c04b21b",
     "showTitle": false,
     "tableResultSettingsMap": {},
     "title": ""
    }
   },
   "outputs": [],
   "source": [
    "dim_hashtag = spark.createDataFrame([\n",
    "    (\"hashtag_id\", \"int\"),       # PK\n",
    "    (\"hashtag_name\", \"string\"),  # #Challenge, #Education, etc.\n",
    "    (\"hashtag_category\", \"string\") # Categoria temática\n",
    "], [\"column\", \"type\"])"
   ]
  },
  {
   "cell_type": "code",
   "execution_count": 0,
   "metadata": {
    "application/vnd.databricks.v1+cell": {
     "cellMetadata": {
      "byteLimit": 2048000,
      "rowLimit": 10000
     },
     "inputWidgets": {},
     "nuid": "ded8be97-2ea2-4a84-8fc6-6d51d071a887",
     "showTitle": false,
     "tableResultSettingsMap": {},
     "title": ""
    }
   },
   "outputs": [],
   "source": [
    "dim_content_type = spark.createDataFrame([\n",
    "    (\"content_type_id\", \"int\"),  # PK\n",
    "    (\"content_type\", \"string\"),  # Video, Shorts, Post, Live Stream, etc.\n",
    "    (\"content_format\", \"string\") # Vídeo, Imagem, Texto\n",
    "], [\"column\", \"type\"])"
   ]
  },
  {
   "cell_type": "code",
   "execution_count": 0,
   "metadata": {
    "application/vnd.databricks.v1+cell": {
     "cellMetadata": {
      "byteLimit": 2048000,
      "rowLimit": 10000
     },
     "inputWidgets": {},
     "nuid": "21399207-c6fd-4825-8353-a198863d1c88",
     "showTitle": false,
     "tableResultSettingsMap": {},
     "title": ""
    }
   },
   "outputs": [],
   "source": [
    "dim_region = spark.createDataFrame([\n",
    "    (\"region_id\", \"int\"),        # PK\n",
    "    (\"country\", \"string\"),       # Brasil, EUA, Índia, etc.\n",
    "    (\"continent\", \"string\"),     # América, Ásia, Europa, etc.\n",
    "    (\"language\", \"string\")       # Idioma predominante na região\n",
    "], [\"column\", \"type\"])"
   ]
  },
  {
   "cell_type": "markdown",
   "metadata": {
    "application/vnd.databricks.v1+cell": {
     "cellMetadata": {
      "byteLimit": 2048000,
      "rowLimit": 10000
     },
     "inputWidgets": {},
     "nuid": "ba8d1b5e-e80e-4fca-a539-d62e19ba89bb",
     "showTitle": false,
     "tableResultSettingsMap": {},
     "title": ""
    }
   },
   "source": [
    "**2.Criar a Tabela de Fatos**\n",
    "\n",
    "\n",
    "Agora, vamos criar a tabela de fatos Fato_Postagens, que vai armazenar as métricas (Views, Likes, Shares, Comments) e as chaves estrangeiras para as tabelas de dimensões."
   ]
  },
  {
   "cell_type": "code",
   "execution_count": 0,
   "metadata": {
    "application/vnd.databricks.v1+cell": {
     "cellMetadata": {
      "byteLimit": 2048000,
      "rowLimit": 10000
     },
     "inputWidgets": {},
     "nuid": "493cc885-0433-4855-816e-e5a7ac2254cd",
     "showTitle": false,
     "tableResultSettingsMap": {},
     "title": ""
    }
   },
   "outputs": [],
   "source": [
    "fact_post_engagement = spark.createDataFrame([\n",
    "    # Colunas principais\n",
    "    (\"post_id\", \"string\"),       # ID único do post\n",
    "    (\"views\", \"bigint\"),         # Número de visualizações\n",
    "    (\"likes\", \"bigint\"),         # Número de curtidas\n",
    "    (\"shares\", \"bigint\"),        # Número de compartilhamentos\n",
    "    (\"comments\", \"bigint\"),      # Número de comentários\n",
    "    (\"engagement_score\", \"double\"), # Score calculado (likes + shares + comments)/views\n",
    "    \n",
    "    # Chaves estrangeiras para dimensões\n",
    "    (\"platform_id\", \"int\"),      # FK para DIM_PLATFORM\n",
    "    (\"hashtag_id\", \"int\"),       # FK para DIM_HASHTAG\n",
    "    (\"content_type_id\", \"int\"),  # FK para DIM_CONTENT_TYPE\n",
    "    (\"region_id\", \"int\"),        # FK para DIM_REGION\n",
    "    (\"date_id\", \"int\")           # FK para DIM_DATE (se dados temporais estiverem disponíveis)\n",
    "], [\"column\", \"type\"])"
   ]
  },
  {
   "cell_type": "markdown",
   "metadata": {
    "application/vnd.databricks.v1+cell": {
     "cellMetadata": {
      "byteLimit": 2048000,
      "rowLimit": 10000
     },
     "inputWidgets": {},
     "nuid": "87fca7d6-8b44-4bf6-9c4c-ea9c480fe191",
     "showTitle": false,
     "tableResultSettingsMap": {},
     "title": ""
    }
   },
   "source": [
    "### **6. Carga dos Dados**\n",
    "Agora que as tabelas de dimensões e a tabela de fatos foram criadas e salvas, a próxima etapa é garantir que os dados foram carregados corretamente e realizar uma análise inicial para verificar a qualidade dos dados. Isso inclui verificar se há valores nulos, duplicados ou qualquer inconsistência nos dados.\n",
    "\n",
    "## 6.1. Verificação da Qualidade dos Dados :\n",
    "### "
   ]
  },
  {
   "cell_type": "code",
   "execution_count": 0,
   "metadata": {
    "application/vnd.databricks.v1+cell": {
     "cellMetadata": {
      "byteLimit": 2048000,
      "rowLimit": 10000
     },
     "inputWidgets": {},
     "nuid": "5144b0d9-a640-4efc-8b3d-95e93c1727dc",
     "showTitle": false,
     "tableResultSettingsMap": {},
     "title": ""
    }
   },
   "outputs": [
    {
     "output_type": "stream",
     "name": "stdout",
     "output_type": "stream",
     "text": [
      "\nVERIFICAÇÃO DAS TABELAS DE DIMENSÕES\n==================================================\nVerificação da Tabela dim_platform\n==================================================\n\nEsquema:\nroot\n |-- platform_id: long (nullable = true)\n |-- platform_name: string (nullable = true)\n |-- platform_type: string (nullable = true)\n\n\nPrimeiras linhas:\n+-----------+-------------+-------------------+\n|platform_id|platform_name|      platform_type|\n+-----------+-------------+-------------------+\n|          1|       TikTok|        Rede Social|\n|          2|    Instagram|        Rede Social|\n|          3|      Twitter|        Rede Social|\n|          4|      YouTube|Plataforma de Vídeo|\n+-----------+-------------+-------------------+\n\n\nEstatísticas descritivas:\n+-------+------------------+-------------+-------------------+\n|summary|       platform_id|platform_name|      platform_type|\n+-------+------------------+-------------+-------------------+\n|  count|                 4|            4|                  4|\n|   mean|               2.5|         null|               null|\n| stddev|1.2909944487358056|         null|               null|\n|    min|                 1|    Instagram|Plataforma de Vídeo|\n|    max|                 4|      YouTube|        Rede Social|\n+-------+------------------+-------------+-------------------+\n\n\nVerificação de valores nulos:\n-RECORD 0------------\n platform_id   | 0   \n platform_name | 0   \n platform_type | 0   \n\n==================================================\nVerificação da Tabela dim_hashtag\n==================================================\n\nEsquema:\nroot\n |-- hashtag_id: long (nullable = true)\n |-- hashtag_name: string (nullable = true)\n |-- hashtag_category: string (nullable = true)\n\n\nPrimeiras linhas:\n+----------+------------+----------------+\n|hashtag_id|hashtag_name|hashtag_category|\n+----------+------------+----------------+\n|         1|  #Challenge|           Viral|\n|         2|  #Education|     Educacional|\n|         3|      #Dance|  Entretenimento|\n|         4|       #Tech|      Tecnologia|\n+----------+------------+----------------+\n\n\nEstatísticas descritivas:\n+-------+------------------+------------+----------------+\n|summary|        hashtag_id|hashtag_name|hashtag_category|\n+-------+------------------+------------+----------------+\n|  count|                 4|           4|               4|\n|   mean|               2.5|        null|            null|\n| stddev|1.2909944487358056|        null|            null|\n|    min|                 1|  #Challenge|     Educacional|\n|    max|                 4|       #Tech|           Viral|\n+-------+------------------+------------+----------------+\n\n\nVerificação de valores nulos:\n-RECORD 0---------------\n hashtag_id       | 0   \n hashtag_name     | 0   \n hashtag_category | 0   \n\n==================================================\nVerificação da Tabela dim_content_type\n==================================================\n\nEsquema:\nroot\n |-- content_type_id: long (nullable = true)\n |-- content_type: string (nullable = true)\n |-- content_format: string (nullable = true)\n\n\nPrimeiras linhas:\n+---------------+------------+-------------------+\n|content_type_id|content_type|     content_format|\n+---------------+------------+-------------------+\n|              1|       Video|              Vídeo|\n|              2|      Shorts|        Vídeo Curto|\n|              3|        Post|             Imagem|\n|              4| Live Stream|Transmissão ao Vivo|\n+---------------+------------+-------------------+\n\n\nEstatísticas descritivas:\n+-------+------------------+------------+--------------+\n|summary|   content_type_id|content_type|content_format|\n+-------+------------------+------------+--------------+\n|  count|                 4|           4|             4|\n|   mean|               2.5|        null|          null|\n| stddev|1.2909944487358056|        null|          null|\n|    min|                 1| Live Stream|        Imagem|\n|    max|                 4|       Video|   Vídeo Curto|\n+-------+------------------+------------+--------------+\n\n\nVerificação de valores nulos:\n-RECORD 0--------------\n content_type_id | 0   \n content_type    | 0   \n content_format  | 0   \n\n==================================================\nVerificação da Tabela dim_region\n==================================================\n\nEsquema:\nroot\n |-- region_id: long (nullable = true)\n |-- country: string (nullable = true)\n |-- continent: string (nullable = true)\n |-- language: string (nullable = true)\n\n\nPrimeiras linhas:\n+---------+-------+----------------+---------+\n|region_id|country|       continent| language|\n+---------+-------+----------------+---------+\n|        1| Brasil|  América Latina|Português|\n|        2|    EUA|América do Norte|   Inglês|\n|        3|  Japão|            Ásia|  Japonês|\n+---------+-------+----------------+---------+\n\n\nEstatísticas descritivas:\n+-------+---------+-------+--------------+---------+\n|summary|region_id|country|     continent| language|\n+-------+---------+-------+--------------+---------+\n|  count|        3|      3|             3|        3|\n|   mean|      2.0|   null|          null|     null|\n| stddev|      1.0|   null|          null|     null|\n|    min|        1| Brasil|América Latina|   Inglês|\n|    max|        3|  Japão|          Ásia|Português|\n+-------+---------+-------+--------------+---------+\n\n\nVerificação de valores nulos:\n-RECORD 0--------\n region_id | 0   \n country   | 0   \n continent | 0   \n language  | 0   \n\n\nVERIFICAÇÃO DA TABELA DE FATOS\n==================================================\nVerificação da Tabela fact_post_engagement\n==================================================\n\nEsquema:\nroot\n |-- post_id: string (nullable = true)\n |-- views: long (nullable = true)\n |-- likes: long (nullable = true)\n |-- shares: long (nullable = true)\n |-- comments: long (nullable = true)\n |-- engagement_score: double (nullable = true)\n |-- platform_id: long (nullable = true)\n |-- hashtag_id: long (nullable = true)\n |-- content_type_id: long (nullable = true)\n |-- region_id: long (nullable = true)\n\n\nPrimeiras linhas:\n+-------+-------+------+------+--------+----------------+-----------+----------+---------------+---------+\n|post_id|  views| likes|shares|comments|engagement_score|platform_id|hashtag_id|content_type_id|region_id|\n+-------+-------+------+------+--------+----------------+-----------+----------+---------------+---------+\n| Post_1|4163464|339431| 53135|   19346|           0.097|          1|         1|              1|        1|\n| Post_2|4155940|215240| 65860|   27239|           0.074|          2|         2|              2|        2|\n| Post_3|3666211|327143| 39423|   36223|            0.11|          3|         3|              1|        3|\n+-------+-------+------+------+--------+----------------+-----------+----------+---------------+---------+\n\n\nEstatísticas descritivas:\n+-------+-------+---------------+-----------------+------------------+------------------+--------------------+-----------+----------+------------------+---------+\n|summary|post_id|          views|            likes|            shares|          comments|    engagement_score|platform_id|hashtag_id|   content_type_id|region_id|\n+-------+-------+---------------+-----------------+------------------+------------------+--------------------+-----------+----------+------------------+---------+\n|  count|      3|              3|                3|                 3|                 3|                   3|          3|         3|                 3|        3|\n|   mean|   null|      3995205.0|         293938.0|           52806.0|27602.666666666668| 0.09366666666666666|        2.0|       2.0|1.3333333333333333|      2.0|\n| stddev|   null|284941.99702922|68430.84201586299|13221.570368152188| 8444.375189043494|0.018230011885167097|        1.0|       1.0|0.5773502691896257|      1.0|\n|    min| Post_1|        3666211|           215240|             39423|             19346|               0.074|          1|         1|                 1|        1|\n|    max| Post_3|        4163464|           339431|             65860|             36223|                0.11|          3|         3|                 2|        3|\n+-------+-------+---------------+-----------------+------------------+------------------+--------------------+-----------+----------+------------------+---------+\n\n\nVerificação de valores nulos:\n-RECORD 0---------------\n post_id          | 0   \n views            | 0   \n likes            | 0   \n shares           | 0   \n comments         | 0   \n engagement_score | 0   \n platform_id      | 0   \n hashtag_id       | 0   \n content_type_id  | 0   \n region_id        | 0   \n\n\n==================================================\nVERIFICAÇÃO DE INTEGRIDADE REFERENCIAL\n==================================================\n\nPosts com plataformas inexistentes: 0\n\nPosts com hashtags inexistentes: 0\n\nPosts com tipos de conteúdo inexistentes: 0\n\nPosts com regiões inexistentes: 0\n"
     ]
    }
   ],
   "source": [
    "from pyspark.sql.functions import col, isnull, when, count\n",
    "\n",
    "# Criar dados reais para as tabelas de dimensão (exemplo)\n",
    "dim_platform_data = [\n",
    "    (1, \"TikTok\", \"Rede Social\"),\n",
    "    (2, \"Instagram\", \"Rede Social\"),\n",
    "    (3, \"Twitter\", \"Rede Social\"),\n",
    "    (4, \"YouTube\", \"Plataforma de Vídeo\")\n",
    "]\n",
    "dim_platform = spark.createDataFrame(dim_platform_data, [\"platform_id\", \"platform_name\", \"platform_type\"])\n",
    "\n",
    "dim_hashtag_data = [\n",
    "    (1, \"#Challenge\", \"Viral\"),\n",
    "    (2, \"#Education\", \"Educacional\"),\n",
    "    (3, \"#Dance\", \"Entretenimento\"),\n",
    "    (4, \"#Tech\", \"Tecnologia\")\n",
    "]\n",
    "dim_hashtag = spark.createDataFrame(dim_hashtag_data, [\"hashtag_id\", \"hashtag_name\", \"hashtag_category\"])\n",
    "\n",
    "dim_content_type_data = [\n",
    "    (1, \"Video\", \"Vídeo\"),\n",
    "    (2, \"Shorts\", \"Vídeo Curto\"),\n",
    "    (3, \"Post\", \"Imagem\"),\n",
    "    (4, \"Live Stream\", \"Transmissão ao Vivo\")\n",
    "]\n",
    "dim_content_type = spark.createDataFrame(dim_content_type_data, [\"content_type_id\", \"content_type\", \"content_format\"])\n",
    "\n",
    "dim_region_data = [\n",
    "    (1, \"Brasil\", \"América Latina\", \"Português\"),\n",
    "    (2, \"EUA\", \"América do Norte\", \"Inglês\"),\n",
    "    (3, \"Japão\", \"Ásia\", \"Japonês\")\n",
    "]\n",
    "dim_region = spark.createDataFrame(dim_region_data, [\"region_id\", \"country\", \"continent\", \"language\"])\n",
    "\n",
    "# Criar dados reais para a tabela de fatos (exemplo)\n",
    "fact_data = [\n",
    "    (\"Post_1\", 4163464, 339431, 53135, 19346, 0.097, 1, 1, 1, 1),\n",
    "    (\"Post_2\", 4155940, 215240, 65860, 27239, 0.074, 2, 2, 2, 2),\n",
    "    (\"Post_3\", 3666211, 327143, 39423, 36223, 0.11, 3, 3, 1, 3)\n",
    "]\n",
    "fact_post_engagement = spark.createDataFrame(fact_data, [\"post_id\", \"views\", \"likes\", \"shares\", \"comments\", \n",
    "                                                      \"engagement_score\", \"platform_id\", \"hashtag_id\", \n",
    "                                                      \"content_type_id\", \"region_id\"])\n",
    "\n",
    "# Função para realizar verificações em um DataFrame\n",
    "def check_data_quality(df, df_name):\n",
    "    print(\"=\"*50)\n",
    "    print(f\"Verificação da Tabela {df_name}\")\n",
    "    print(\"=\"*50)\n",
    "    \n",
    "    # Mostrar esquema\n",
    "    print(\"\\nEsquema:\")\n",
    "    df.printSchema()\n",
    "    \n",
    "    # Mostrar as primeiras linhas\n",
    "    print(\"\\nPrimeiras linhas:\")\n",
    "    df.show(5)\n",
    "    \n",
    "    # Estatísticas descritivas\n",
    "    print(\"\\nEstatísticas descritivas:\")\n",
    "    df.describe().show()\n",
    "    \n",
    "    # Verificar valores nulos\n",
    "    print(\"\\nVerificação de valores nulos:\")\n",
    "    null_counts = df.select([count(when(isnull(c), c)).alias(c) for c in df.columns])\n",
    "    null_counts.show(vertical=True)\n",
    "\n",
    "# Verificar as tabelas de dimensões\n",
    "print(\"\\nVERIFICAÇÃO DAS TABELAS DE DIMENSÕES\")\n",
    "check_data_quality(dim_platform, \"dim_platform\")\n",
    "check_data_quality(dim_hashtag, \"dim_hashtag\")\n",
    "check_data_quality(dim_content_type, \"dim_content_type\")\n",
    "check_data_quality(dim_region, \"dim_region\")\n",
    "\n",
    "# Verificar a tabela de fatos\n",
    "print(\"\\nVERIFICAÇÃO DA TABELA DE FATOS\")\n",
    "check_data_quality(fact_post_engagement, \"fact_post_engagement\")\n",
    "\n",
    "# Verificação de integridade referencial\n",
    "print(\"\\n\" + \"=\"*50)\n",
    "print(\"VERIFICAÇÃO DE INTEGRIDADE REFERENCIAL\")\n",
    "print(\"=\"*50)\n",
    "\n",
    "def check_referential_integrity(fact_df, dim_df, fk_column, dim_name):\n",
    "    missing = fact_df.join(dim_df, fact_df[fk_column] == dim_df[fk_column], \"left_anti\")\n",
    "    count_missing = missing.count()\n",
    "    print(f\"\\nPosts com {dim_name} inexistentes: {count_missing}\")\n",
    "    if count_missing > 0:\n",
    "        missing.select(\"post_id\", fk_column).show()\n",
    "\n",
    "check_referential_integrity(fact_post_engagement, dim_platform, \"platform_id\", \"plataformas\")\n",
    "check_referential_integrity(fact_post_engagement, dim_hashtag, \"hashtag_id\", \"hashtags\")\n",
    "check_referential_integrity(fact_post_engagement, dim_content_type, \"content_type_id\", \"tipos de conteúdo\")\n",
    "check_referential_integrity(fact_post_engagement, dim_region, \"region_id\", \"regiões\")"
   ]
  },
  {
   "cell_type": "markdown",
   "metadata": {
    "application/vnd.databricks.v1+cell": {
     "cellMetadata": {
      "byteLimit": 2048000,
      "rowLimit": 10000
     },
     "inputWidgets": {},
     "nuid": "560a0624-3e71-4aed-8ac2-67ca6455b6ee",
     "showTitle": false,
     "tableResultSettingsMap": {},
     "title": ""
    }
   },
   "source": [
    "**Resultado da verificação:**\n",
    "\n",
    "**Posts com plataformas inexistentes: 0\n",
    "**\n",
    "- Todos os platform_id na tabela de fatos (fact_post_engagement) existem na tabela de dimensão dim_platform\n",
    "\n",
    "- Não há referências a plataformas que não estão cadastradas\n",
    "\n",
    "Posts com hashtags inexistentes: 0\n",
    "\n",
    "- Todos os hashtag_id na tabela de fatos correspondem a entradas em dim_hashtag\n",
    "\n",
    "- Nenhuma hashtag usada nos posts está sem cadastro\n",
    "\n",
    "- Posts com tipos de conteúdo inexistentes: 0\n",
    "\n",
    "- Todos os content_type_id referenciam tipos válidos em dim_content_type\n",
    " A classificação de conteúdo está completamente consistente\n",
    "\n",
    "- Posts com regiões inexistentes: 0\n",
    "\n",
    "- Todos os region_id têm correspondência em dim_region\n",
    "\n",
    "- Não há posts associados a regiões não cadastradas\n",
    "\n",
    "**Conclusão Geral:**\n",
    "- Integridade referencial perfeita - Todas as chaves estrangeiras na tabela de fatos apontam para registros existentes nas tabelas de dimensão.\n",
    "\n",
    "- Dados altamente consistentes - Não foram encontrados problemas de relacionamento entre as tabelas.\n",
    "\n",
    "- Pronto para análise - A qualidade dos relacionamentos está garantida, o que significa que:\n",
    "\n",
    "- Todas as análises por plataforma, hashtag, tipo de conteúdo ou região serão completas\n",
    "\n",
    "- Não haverá dados \"órfãos\" ou categorias não classificadas\n",
    "\n",
    "- Agregações e joins funcionarão corretamente"
   ]
  },
  {
   "cell_type": "markdown",
   "metadata": {
    "application/vnd.databricks.v1+cell": {
     "cellMetadata": {
      "byteLimit": 2048000,
      "rowLimit": 10000
     },
     "inputWidgets": {},
     "nuid": "57e3e48e-c57f-4025-93aa-bee9d213e160",
     "showTitle": false,
     "tableResultSettingsMap": {},
     "title": ""
    }
   },
   "source": [
    "## 7.Resultados\n",
    "\n",
    "Os resultados mostram que conseguimos criar quatro tabelas: platform_id, hashtag_id, content_type_id e region_id. Vamos fazer uma análise de cada uma dessas tabelas para entender melhor seus conteúdos e verificar a qualidade dos dados.\n",
    "\n",
    "**7.1 Tabela platform_id**\n",
    "\n",
    "A tabela dim_platform serve como dimensão central para categorizar e contextualizar todas as plataformas de mídia social analisadas no projeto, permitindo:\n",
    "\n",
    "Agregação consistente de métricas por plataforma\n",
    "\n",
    "Análises comparativas entre redes sociais\n",
    "\n",
    "Filtros dinâmicos em dashboards\n",
    "\n",
    "Há 5 linhas (registros) correspondentes às seguintes plataformas:\n",
    "\n",
    "TikTok\n",
    "\n",
    "Instagram\n",
    "\n",
    "Twitter\n",
    "\n",
    "YouTube\n",
    "\n",
    "LinkedIn"
   ]
  },
  {
   "cell_type": "markdown",
   "metadata": {
    "application/vnd.databricks.v1+cell": {
     "cellMetadata": {
      "byteLimit": 2048000,
      "rowLimit": 10000
     },
     "inputWidgets": {},
     "nuid": "098c4e66-6383-4e40-bc1a-b67f49353a0c",
     "showTitle": false,
     "tableResultSettingsMap": {},
     "title": ""
    }
   },
   "source": [
    " **Visualização dos Dados da Dimensão Plataform**:\n",
    "\n"
   ]
  },
  {
   "cell_type": "code",
   "execution_count": 0,
   "metadata": {
    "application/vnd.databricks.v1+cell": {
     "cellMetadata": {
      "byteLimit": 2048000,
      "rowLimit": 10000
     },
     "inputWidgets": {},
     "nuid": "f530a612-602b-473f-bf2a-ccf0720142f5",
     "showTitle": false,
     "tableResultSettingsMap": {},
     "title": ""
    }
   },
   "outputs": [
    {
     "output_type": "stream",
     "name": "stdout",
     "output_type": "stream",
     "text": [
      "\nVisualização completa da tabela:\n+-----------+-------------+-------------------+-----------+--------------+-------------+\n|platform_id|platform_name|platform_type      |launch_year|parent_company|active_status|\n+-----------+-------------+-------------------+-----------+--------------+-------------+\n|1          |TikTok       |Rede Social        |2016       |ByteDance     |true         |\n|2          |Instagram    |Rede Social        |2010       |Meta          |true         |\n|3          |Twitter      |Microblogging      |2006       |X Corp        |true         |\n|4          |YouTube      |Plataforma de Vídeo|2005       |Alphabet      |true         |\n|5          |LinkedIn     |Rede Profissional  |2003       |Microsoft     |true         |\n+-----------+-------------+-------------------+-----------+--------------+-------------+\n\n\nEstatísticas descritivas:\n+-------+------------------+-------------+-------------+-----------------+--------------+\n|summary|       platform_id|platform_name|platform_type|      launch_year|parent_company|\n+-------+------------------+-------------+-------------+-----------------+--------------+\n|  count|                 5|            5|            5|                5|             5|\n|   mean|               3.0|         null|         null|           2008.0|          null|\n| stddev|1.5811388300841898|         null|         null|5.147815070493516|          null|\n|    min|                 1|    Instagram|Microblogging|             2003|      Alphabet|\n|    max|                 5|      YouTube|  Rede Social|             2016|        X Corp|\n+-------+------------------+-------------+-------------+-----------------+--------------+\n\n\nContagem por tipo de plataforma:\n+-------------------+-----+\n|      platform_type|count|\n+-------------------+-----+\n|        Rede Social|    2|\n|      Microblogging|    1|\n|Plataforma de Vídeo|    1|\n|  Rede Profissional|    1|\n+-------------------+-----+\n\n"
     ]
    },
    {
     "output_type": "display_data",
     "data": {
      "text/html": [
       "<style scoped>\n",
       "  .table-result-container {\n",
       "    max-height: 300px;\n",
       "    overflow: auto;\n",
       "  }\n",
       "  table, th, td {\n",
       "    border: 1px solid black;\n",
       "    border-collapse: collapse;\n",
       "  }\n",
       "  th, td {\n",
       "    padding: 5px;\n",
       "  }\n",
       "  th {\n",
       "    text-align: left;\n",
       "  }\n",
       "</style><div class='table-result-container'><table class='table-result'><thead style='background-color: white'><tr><th>platform_id</th><th>platform_name</th><th>platform_type</th><th>launch_year</th><th>parent_company</th><th>active_status</th></tr></thead><tbody><tr><td>1</td><td>TikTok</td><td>Rede Social</td><td>2016</td><td>ByteDance</td><td>true</td></tr><tr><td>2</td><td>Instagram</td><td>Rede Social</td><td>2010</td><td>Meta</td><td>true</td></tr><tr><td>3</td><td>Twitter</td><td>Microblogging</td><td>2006</td><td>X Corp</td><td>true</td></tr><tr><td>4</td><td>YouTube</td><td>Plataforma de Vídeo</td><td>2005</td><td>Alphabet</td><td>true</td></tr><tr><td>5</td><td>LinkedIn</td><td>Rede Profissional</td><td>2003</td><td>Microsoft</td><td>true</td></tr></tbody></table></div>"
      ]
     },
     "metadata": {
      "application/vnd.databricks.v1+output": {
       "addedWidgets": {},
       "aggData": [],
       "aggError": "",
       "aggOverflow": false,
       "aggSchema": [],
       "aggSeriesLimitReached": false,
       "aggType": "",
       "arguments": {},
       "columnCustomDisplayInfos": {},
       "data": [
        [
         1,
         "TikTok",
         "Rede Social",
         2016,
         "ByteDance",
         true
        ],
        [
         2,
         "Instagram",
         "Rede Social",
         2010,
         "Meta",
         true
        ],
        [
         3,
         "Twitter",
         "Microblogging",
         2006,
         "X Corp",
         true
        ],
        [
         4,
         "YouTube",
         "Plataforma de Vídeo",
         2005,
         "Alphabet",
         true
        ],
        [
         5,
         "LinkedIn",
         "Rede Profissional",
         2003,
         "Microsoft",
         true
        ]
       ],
       "datasetInfos": [],
       "dbfsResultPath": null,
       "isJsonSchema": true,
       "metadata": {},
       "overflow": false,
       "plotOptions": {
        "customPlotOptions": {},
        "displayType": "table",
        "pivotAggregation": null,
        "pivotColumns": null,
        "xColumns": null,
        "yColumns": null
       },
       "removedWidgets": [],
       "schema": [
        {
         "metadata": "{}",
         "name": "platform_id",
         "type": "\"long\""
        },
        {
         "metadata": "{}",
         "name": "platform_name",
         "type": "\"string\""
        },
        {
         "metadata": "{}",
         "name": "platform_type",
         "type": "\"string\""
        },
        {
         "metadata": "{}",
         "name": "launch_year",
         "type": "\"long\""
        },
        {
         "metadata": "{}",
         "name": "parent_company",
         "type": "\"string\""
        },
        {
         "metadata": "{}",
         "name": "active_status",
         "type": "\"boolean\""
        }
       ],
       "type": "table"
      }
     },
     "output_type": "display_data"
    },
    {
     "output_type": "display_data",
     "data": {
      "application/vnd.databricks.v1+bamboolib_hint": "{\"pd.DataFrames\": [], \"version\": \"0.0.1\"}",
      "text/plain": []
     },
     "metadata": {},
     "output_type": "display_data"
    },
    {
     "output_type": "stream",
     "name": "stdout",
     "output_type": "stream",
     "text": [
      "<Figure size 720x288 with 0 Axes>"
     ]
    },
    {
     "output_type": "display_data",
     "data": {
      "image/png": "[encoded data removed]"
     },
     "metadata": {
      "application/vnd.databricks.v1+output": {
       "addedWidgets": {},
       "arguments": {},
       "data": "data:image/png;base64,iVBORw0KGgoAAAANSUhEUgAAAagAAAEYCAYAAAAJeGK1AAAAOXRFWHRTb2Z0d2FyZQBNYXRwbG90bGliIHZlcnNpb24zLjUuMSwgaHR0cHM6Ly9tYXRwbG90bGliLm9yZy/YYfK9AAAACXBIWXMAAAsTAAALEwEAmpwYAAAlZElEQVR4nO3dedxVZbn/8c+XQciBBEFTATFFkTwCirMmDuGQU9YxNRXNsjr6M2wwtNPRTMvOaXLE9IhoTlmmkZk5ojiFoKQpkORBfRAVUVEyJ7x+f6x742bzjPjsvdZ+9vf9eu3Xs9a9pmuvDfva973utW5FBGZmZkXTLe8AzMzMmuMEZWZmheQEZWZmheQEZWZmheQEZWZmheQEZWZmheQEZTUnabKks/KOo5FJOkbSfTU83hBJIalHlfa/s6SnJC2VdHA1jmG15wTV4CRNlfSqpF55x9Ie6Utu07zjqDVJZ0i6Ku84WiNpjKT3U5J4Q9JcSceu4n6aOrjZmcAFEbFmRNzU0WNaMTlBNTBJQ4BdgQAOzDca6yKej4g1gT7Ad4BLJQ2vwXE3Ap5YlQ2rVauzD88JqrEdDTwETAbGlS9IzXAXSvpj+jX8F0mblC3fSdLDkpakvzu1dBBJoyQ9kvbza6B3xfL9Jc2S9JqkByRt1dE3ImkTSXdJWizpZUlXS1q7bPl8Sd+S9FiK+deSepctPyjF8Lqkf0jaJ5UfK2l2iv1pSV8p22aMpCZJp0h6SdJCSQdL2k/S3yW9Ium0svW7SZqQ9r9Y0vWS+qVlpSawcZKeTe/hu2nZPsBpwOdT7eSvqXwDSVPSceZJ+nIr52edtO7rkqYDm1QsP1fSc2n5TEm7li3bTtKMtOxFST9r6/OIzE3Aq8BKCaql8yppDeBPwAbpvS5N73M7SQ+mfyMLJV0gabW0zT+AjwN/SOv3au3cpNrobyVdJel14BhlLQlnpX9/SyX9IZ2zq9P7fljZD7qqnC9rQUT41aAvYB7wH8A2wLvAemXLJgOLge2AHsDVwHVpWT+yL56j0rLD0/w6zRxjNeAZ4GSgJ/C5dKyz0vJRwEvA9kB3skQ5H+jVQswBbNpM+abAp4BewADgXuAXZcvnA9OBDVL8s4GvpmXbAUvS9t2ADYFhadmnyb7MBewGvAlsnZaNAd4D/iu9ty8Di4BrgLWATwD/AjZO63+d7AfBwBTnL4Fr07Ih6b1dCnwEGAG8DWyRlp8BXFXxnu8FLiJL+CPTsfdo4bxdB1wPrAFsCSwA7itbfiSwTvo8vwm8APROyx4EjkrTawI7tHCMMUBTmu4GfCZ91puXvb8e7TyvTRX73gbYIcU3JH1+4ys+373ac27SuXwXODjF+RFgKtn/h02AjwJPAn8H9krHvBK4vDPPl1/t+I7KOwC/cvrgYZf0n7R/mp8DnFy2fDLwv2Xz+wFz0vRRwPSK/T0IHNPMcT4JPA+orOwBPkhQE4EfVGwzF9ithbibTVDNrHcw8GjZ/HzgyLL5/wYuTtO/BH7ezvN2E/D1ND2GLAF1T/Nrpfi2L1t/JnBwmp4N7Fm2bP30GZS+dAMYWLZ8OnBYmj6DsgQFDAKWAWuVlf0ImNxMzN3TcYaVlf2QsgTVzDavAiPS9L3A90v/VlrZZgzwPvAa8Aowqyz+0vvr0c7z2tTGscYDN1Z8vnu159ykc3lvxf6mAt8tm/8p8Key+QOAWZ15vvxq++UmvsY1DrgtIl5O89dQ0cxH9quw5E2yX4OQ1UKeqVj3GbKaR6UNgAWR/ueWrVuyEfDN1HTzmqTXyL5gNmjvGwGQtJ6k6yQtSM02VwH92/l+BgH/aGG/+0p6KDUVvUaWqMv3uzgilqXpf6W/L5Yt/1fZcTYCbix7n7PJvkjXa0eMlTYAXomIN8rKWvoMBpAlwecq1l0uNX/OTs2fr5HVIkrv8zhgM2BOaurav4WYILsGtXZE9IuIkRFxXXMrteO8Vq6/maSbJb2QPt8ftrJ+e87Nc6ys8nNr6XPszPNlrXCCakCSPgIcCuyW/sO/QNYEN0LSiHbs4nmyL9tyg8majSotBDaUpIp1S54Dzk5faqXX6hFxbbvfUOaHZL/Q/y0i+pA1waj1TVaIYZPKQmU9G28AfkLW/Lk2cEsH9tvccfateK+9I6K581apctiB54F+ktYqK2vpM1hE1hQ5qGJdANL1k1PI/k30Te9zCel9RsRTEXE4sC7wY+C36VrRKmnHeW1uiIWJZLX8oenzPY2WP4f2nJtVHsah1uerkTlBNaaDyX65Dydrnx8JbAFMI+s40ZZbgM0kHSGph6TPp33d3My6D5J9OZ4kqaekQ8iu+ZRcCnxV0vbKrCHp0xVfLpVWk9S77NWdrHltKbBE0obAt9vxPkouA46VtKeyjgwbShpGdv2sF+kLXtK+wNgO7LfSxcDZkjYCkDRA0kHt3PZFYIikbgAR8RxZU+mP0jnYiuyX+0pd0VMN73fAGZJWV9arrry2vBbZZ7QI6CHpv8h64ZHiPFLSgIgoNd9B1pS3qto6ry8C60j6aEWMrwNL02fztZZ23pFzs4pqfb4alhNUYxpHdsH32Yh4ofQCLgC+oDa63UbEYmB/sovDi8l+Te5f1lxYvu47wCHAMWTXJT5P9mVZWj6DrHPBBWTt+PPSuq15gqzJpfQ6lqzNf2uyX7J/LD9GWyJietrHz8kS9z3ARqmJ6CSyzgWvAkcAU9q732acm7a/TdIbZB0mtm/ntr9JfxdLeiRNH052bed54Ebg9Ii4o4XtTyRronqB7Pri5WXL/gzcStYp4BngLVZsAtsHeELS0vQeDouIf7GK2jqvETEHuBZ4OjWHbgB8K633BtmPml+3cZiOnJuOqun5amRa8dKAWWOT9D3ggYi4M+9YzBqda1BmiaQ1gWeB3fOOxcyynj1mlrmL7H6qz+UdiJm5ic/MzArKTXxmZlZIXbKJr3///jFkyJC8wzAzszbMnDnz5YgY0NyyLpmghgwZwowZM/IOw8zM2iCp8qk0y7mJz8zMCskJyszMCskJyszMCskJyszMCskJyszMCqlqCUrSIEl3S3pS0hOSvp7K+0m6XdJT6W/fVC5J5ykbnvkxSVuX7WtcWv8pSZVjFpmZWRdUzRrUe8A3I2I42VDNJ6TH/E8A7oyIocCdaR5gX2Boeh1PNv4LkvoBp5M99Xk74PRSUjMzs66ravdBRcRCssHqiIg3JM0mG9HyILIhnQGuIBtq+Tup/Mo08upDktaWtH5a9/aIeAVA0u1kj7Pv6IB2ZlZQ5zy60kgtuZowqsXBfXPTiOeoJjfqShoCjAL+QjaC5sK06AU+GO56Q1YcU6UplbVUXnmM48lqXgwePLhy8SprxH8UHVG08wM+R+1RtHNk1pyqd5JIQxjcAIyPiNfLl6XaUqc8rTYiLomI0RExesCAZp+aYWZmdaSqCUpST7LkdHVElEY4fTE13ZH+vpTKFwCDyjYfmMpaKjczsy6smr34BFwGzI6In5UtmkI25Djp7+/Lyo9Ovfl2AJakpsA/A2Ml9U2dI8amMjMz68KqeQ1qZ+Ao4HFJs1LZacA5wPWSjgOeAQ5Ny24B9gPmAW8CxwJExCuSfgA8nNY7s9RhwszMuq5q9uK7D1ALi/dsZv0ATmhhX5OASZ0XnZmZFZ2fJGFmZoXkBGVmZoXkBGVmZoXkBGVmZoXkBGVmZoXkBGVmZoXkBGVmZoXkBGVmZoXkBGVmZoXkBGVmZoXkBGVmZoXkBGVmZoXkBGVmZoXkBGVmZoXkBGVmZoXkBGVmZoXkBGVmZoXkBGVmZoXkBGVmZoXkBGVmZoXkBGVmZoXkBGVmZoXkBGVmZoXkBGVmZoXkBGVmZoXkBGVmZoXkBGVmZoXkBGVmZoXkBGVmZoXkBGVmZoXkBGVmZoXkBGVmZoXkBGVmZoVUtQQlaZKklyT9razsDEkLJM1Kr/3Klp0qaZ6kuZL2LivfJ5XNkzShWvGamVmxVLMGNRnYp5nyn0fEyPS6BUDScOAw4BNpm4skdZfUHbgQ2BcYDhye1jUzsy6uR7V2HBH3ShrSztUPAq6LiLeB/5M0D9guLZsXEU8DSLourftkZ8drZmbFksc1qBMlPZaaAPumsg2B58rWaUplLZWvRNLxkmZImrFo0aJqxG1mZjVU6wQ1EdgEGAksBH7aWTuOiEsiYnREjB4wYEBn7dbMzHJStSa+5kTEi6VpSZcCN6fZBcCgslUHpjJaKTczsy6spjUoSeuXzX4GKPXwmwIcJqmXpI2BocB04GFgqKSNJa1G1pFiSi1jNjOzfFStBiXpWmAM0F9SE3A6MEbSSCCA+cBXACLiCUnXk3V+eA84ISKWpf2cCPwZ6A5MiognqhWzmZkVRzV78R3eTPFlrax/NnB2M+W3ALd0YmhmZlYH/CQJMzMrJCcoMzMrJCcoMzMrJCcoMzMrJCcoMzMrJCcoMzMrJCcoMzMrJCcoMzMrJCcoMzMrJCcoMzMrJCcoMzMrJCcoMzMrJCcoMzMrJCcoMzMrJCcoMzMrJCcoMzMrJCcoMzMrJCcoMzMrJCcoMzMrJCcoMzMrJCcoMzMrJCcoMzMrJCcoMzMrJCcoMzMrJCcoMzMrpB5trSCpJ/A14JOp6B7g4oh4t5qBmZlZY2szQQETgZ7ARWn+qFT2pWoFZWZm1p4EtW1EjCibv0vSX6sVkJmZGbTvGtQySZuUZiR9HFhWvZDMzMzaV4P6NnC3pKcBARsBx1Y1KjMza3htJqiIuFPSUGDzVDQ3It6ublhmZtbo2lODAtgGGJLWHymJiLiyalGZmVnDa083818BmwCz+ODaUwBOUGZmVjXtqUGNBoZHRHRkx5ImAfsDL0XElqmsH/BrstrYfODQiHhVkoBzgf2AN4FjIuKRtM044D/Tbs+KiCs6EoeZmdWn9vTi+xvwsVXY92Rgn4qyCcCdETEUuDPNA+wLDE2v48nusyoltNOB7YHtgNMl9V2FWMzMrM60pwbVH3hS0nSg1DkiIuKg1jaKiHslDakoPggYk6avAKYC30nlV6Za2kOS1pa0flr39oh4BUDS7WRJ79p2xG1mZnWsPQnqjLJpAbsCh63i8daLiIVp+gVgvTS9IfBc2XpNqayl8pVIOp6s9sXgwYNXMTwzMyuKNpv4IuIe4HWy60mTgT2Aiz/sgVNtqUPXtdrY3yURMToiRg8YMKCzdmtmZjlpsQYlaTPg8PR6maxzgyJi9w9xvBclrR8RC1MT3kupfAEwqGy9galsAR80CZbKp36I45uZWZ1orQY1h6y2tH9E7BIR5/PhH3E0BRiXpscBvy8rP1qZHYAlqSnwz8BYSX1T54ixqczMzLq41q5BHUJ2reluSbcC15Fdg2oXSdeS1X76S2oi6413DnC9pOOAZ4BD0+q3kHUxn0fWzfxYgIh4RdIPgIfTemeWOkyYmVnX1mKCioibgJskrUHWy248sK6kicCNEXFbazuOiMNbWLRnM+sGcEIL+5kETGrtWGZm1vW0p5PEPyPimog4gOwa0KNkXcPNzMyqpkNDvkfEq6m33Eq1IDMzs87UoQRlZmZWK05QZmZWSE5QZmZWSE5QZmZWSE5QZmZWSE5QZmZWSE5QZmZWSE5QZmZWSE5QZmZWSE5QZmZWSE5QZmZWSE5QZmZWSE5QZmZWSE5QZmZWSE5QZmZWSE5QZmZWSE5QZmZWSE5QZmZWSE5QZmZWSE5QZmZWSE5QZmZWSE5QZmZWSE5QZmZWSE5QZmZWSE5QZmZWSE5QZmZWSE5QZmZWSE5QZmZWSE5QZmZWSE5QZmZWSE5QZmZWSLkkKEnzJT0uaZakGamsn6TbJT2V/vZN5ZJ0nqR5kh6TtHUeMZuZWW3lWYPaPSJGRsToND8BuDMihgJ3pnmAfYGh6XU8MLHmkZqZWc0VqYnvIOCKNH0FcHBZ+ZWReQhYW9L6OcRnZmY1lFeCCuA2STMlHZ/K1ouIhWn6BWC9NL0h8FzZtk2pbAWSjpc0Q9KMRYsWVStuMzOrkR45HXeXiFggaV3gdklzyhdGREiKjuwwIi4BLgEYPXp0h7Y1M7PiyaUGFREL0t+XgBuB7YAXS0136e9LafUFwKCyzQemMjMz68JqnqAkrSFprdI0MBb4GzAFGJdWGwf8Pk1PAY5Ovfl2AJaUNQWamVkXlUcT33rAjZJKx78mIm6V9DBwvaTjgGeAQ9P6twD7AfOAN4Fjax+ymZnVWs0TVEQ8DYxopnwxsGcz5QGcUIPQzMysQIrUzdzMzGw5JygzMyskJygzMyskJygzMyskJygzMyskJygzMyskJygzMyskJygzMyskJygzMyskJygzMyskJygzMyskJygzMyukvAYsNKu5d999l6amJt56662aHndMt2U1PV57zJ5d+1Gne/fuzcCBA+nZs2fNj231yQnKGkZTUxNrrbUWQ4YMIQ33UhML33y3Zsdqr/VXr22SiAgWL15MU1MTG2+8cU2PbfXLTXzWMN566y3WWWedmiYny0hinXXWqXnt1eqbE5Q1FCen/PjcW0c5QZmZWSH5GpQ1rHMefblT9zdhVP9O3Z9Zo3MNyqyGNl23b82Otd0WQ1n8cucmYbNacoIys6p477338g7B6pwTlFkO/rl0KYfutzdjd9qOPbYdxa03TwHguWfms/vokcvXm/iLn/GTs88E4LP77MVZ/3kq+31yJ3YZMZy/3H8fAMuWLeP7p36H3UePZM/ttuayiRcu337SxRcuP8ZTc+c0G8v777/P0KFDWbRo0fL5TTfdlEWLFrFo0SI++9nPsu2227Ltttty//33AzB9+nR23HFHRo0axU477cTcuXMBmDx5MgceeCB77LEHe+65Z+eeNGs4vgZlloNevXtz2XW/Ya0+fVj88sscsPuu7P3pA9rcbtl7y7jl3ge489Y/8dMfnsX1f7yVqyb9L03Pzuf2h2bQo0cPXn3lleXr91unP7c9MJ3Jl1zMxef+nJ9e9MuV9tmtWzeOPPJIrr76asaPH88dd9zBiBEjGDBgAEcccQQnn3wyu+yyC88++yx77703s2fPZtiwYUybNo0ePXpwxx13cNppp3HDDTcA8Mgjj/DYY4/Rr1+/zjth1pCcoMxyEBH86Izv8Zf7pqFu3Xjh+QUsevHFNrfb96CDAdhq1NY0PfsMANPuvpOjjjueHj2y/859yxLDfmXr3/L7m1rc7xe/+EUOOuggxo8fz6RJkzj22GMBuOOOO3jyySeXr/f666+zdOlSlixZwrhx43jqqaeQxLvvfnAz8qc+9SknJ+sUTlBmOfjdddey+OVF3Hr/X+jZsyfbbTGUt99+i+49evB+vL98vbffXvHG1l69egHQrXv3dl3jWW21bP3u3buzbFnL6w8aNIj11luPu+66i+nTp3P11VcDWXPfQw89RO/evVdY/8QTT2T33XfnxhtvZP78+YwZM2b5sjXWWKPNuMzawwnKGlae3cLfeH0J/QesS8+ePbn/nqnLa0MD1l2Plxct4pXFi1ljzTW540+3MOZTY1vd1yf32IurJl3KzruNWd7E13cVajBf+tKXOPLIIznqqKPo3r07AGPHjuX888/n29/+NgCzZs1i5MiRLFmyhA033BDIrjuZVYM7SZjl4DOfP5zHHpnJHtuO4jfXXMWmm28OQM+ePTl5wnf59G47c9gB+7LpZpu3ua8jjvkiGw4czJ7bb81e22/Djddft0oxHXjggSxdunR58x7Aeeedx4wZM9hqq60YPnw4F198MQCnnHIKp556KqNGjXJvPasaRUTeMXS60aNHx4wZMzplX519M+eHVbSbQYt2fqDlczR79my22GKLGkdTPw+LnTFjBieffDLTpk2r2nFb+gyK9u+oaP/PoOueI0kzI2J0c8vcxGdmnHPOOUycOHH5tSezInCCMmsg1115Bf970fn07PbBg1t33nlnLrzwQiZMmJBjZGYrc4KyhhIRDf1U7cOOHsdhR4+r+XhQkJ17s45wJwlrGL1792bx4sX+osxBacDCyu7qZq1xDcoaxsCBA2lqalr+SJ9aWfJO8YZ8f2217jU/ZmnId7P2coKyhtGzZ89chhsvWu8rgAlbFK+Xmlmlumnik7SPpLmS5kny1Vwzsy6uLhKUpO7AhcC+wHDgcEnD843KzMyqqS4SFLAdMC8ino6Id4DrgINyjsnMzKqoLp4kIelzwD4R8aU0fxSwfUScWLbO8cDxaXZzYG7NA21df6B4FyOKxeeodT4/bfM5alvRztFGETGguQVdppNERFwCXJJ3HC2RNKOlx3lYxueodT4/bfM5als9naN6aeJbAAwqmx+YyszMrIuqlwT1MDBU0saSVgMOA6bkHJOZmVVRXTTxRcR7kk4E/gx0ByZFxBM5h9VRhW1+LBCfo9b5/LTN56htdXOO6qKThJmZNZ56aeIzM7MG4wRlZmaF5ARlVkCSukk6NO84rP5J6tVMWb88YukoJyjLjaTVJX1P0qVpfqik/fOOqwgi4n3glLzjsC7hd5KWDwAmaX3g9hzjaTcnKMvT5cDbwI5pfgFwVn7hFM4dkr4laZCkfqVX3kFZ3bkJuF5Sd0lDyHpDn5prRO3kXnxVJOkQ4MfAuoDSKyKiT66BFUTpjnZJj0bEqFT214gYkXdsRSDp/5opjoj4eM2DKbBU6/4BsBHZrTP+f1ZB0gnAPsAQ4CsR8UC+EbVPXdwHVcf+GzggImbnHUhBvSPpI0AASNqErEZlQETUfvCq+vQL4BDg8fAv7uUkfaN8FhgMzAJ2kLRDRPwsl8A6wAmqul50cmrV6cCtwCBJVwM7A8fkGlGBSFod+AYwOCKOlzQU2Dwibs45tKJ5Dvibk9NK1qqY/10L5YXlJr4qknQu8DGyNuDlNYOI+F1L2zQaSesAO5D9wnsoIor0lOVcSfo1MBM4OiK2TAnrgYgYmW9kxSJpW7ImvntY8f9Z4WsItSRpTYCIWJp3LO3lGlR19QHeBMaWlQUf/JIx2A3Yhey89ARuzDecQtkkIj4v6XCAiHhTkvIOqoDOBpYCvYHVco6lcCRtCfwK6JfmXyb70VP4x8U5QVVRRBybdwxFJukiYFPg2lT0FUl7RcQJOYZVJL5G1z4bRMSWeQdRYJcA34iIuwEkjQEuBXbKMaZ2cYKqAknnk75UmhMRJ9UwnCLbA9iidO1A0hVA4X/V1dAZrHyNzj96VnaLpLERcVvegRTUGqXkBBARUyWtkWdA7eUEVR0z8g6gTswj61n0TJoflMoMiIjbJM3kg2t0X/c1umZ9DfiWpLeBd3E3cyC7zSVd735a0vfImvkAjgSezi+y9nMnCas5SX8gq2F+FNgWmJ7mtwemR8SY/KIrDkl3RsSebZWZNUfSIxGxtaS+wPfJrvUCTAPOiIhX84uufVyDqoKyL+BmRcSBNQyniH6SdwBFJqk3sDrQP325lDpG9AE2zC2wAkvnaShZRwkAIuLe/CIqjpSI6vKyghNUdZS+gA8h62Z+VZo/HHgxl4gKJCLuyTuGgvsKMB7YgKybeSlBvQ5ckFNMhSXpS8DXgYGkG1GBB8mucTayYZIea2lhRGxVy2BWhZv4qqj0KJ+2yhqVpDf4oKa5Glk38382+rWDEkknRcR5FWW9IsI9+cpIepysqfihiBgpaRjww4g4JOfQciXpCWC/lpZHxDMtLSsK16Cqaw1JH4+IpwEkbQzURe+ZWoiI5Xe0p/t7DiL79WuZY4DzKsoeBLaufSiF9lZEvCWplMDnSNo876AK4J16SEKtcYKqrpOBqZKeJmum2Yis+cYqpK7mN0k6HZiQdzx5kvQxsmtNH5E0ihWvQa2eW2DF1SRpbbInttwu6VU+6BnayO6H5mvdkvpFxCv5hNV+buKrsjRY2LA0O8fNMyCpR0S8l572XtINGA3sFhE7trBpQ5A0jqz2NJoVb1l4A5jsR2W1TNJuZL1Db42Id/KOpwgk/RE4OCLeTfPrAzdHxDb5RtY2J6gqKnvY50YR8WU/7DNT1v318rLi94D5wKUR8VI+kRWLpM9GxA15x1FkkroDT0TEsDZXblCSvkx2LepzZPcaTgG+VQ83NruJr7ouJ+uFVT4g32+Ahk5QpCYrPwqqeZKOjIirgCEVQyYAfghquYhYJmmupMER8Wze8RRRRFwqaTWyJtAheDwoS/ywz+YNaO6Lt8RfwMs70qyZaxT1oy/whKTpwD9LhY1+v6HHg7K2+GGfzetO9uXrZN2MiPhlmvxxRLyVazD14Xt5B1BQHg/KWibpU8B/AsOB20gD8kXE1DzjylvpGlTecRSdpHlkN3ZPS6/7ImJJvlGZ1Y4TVBVJ6kdWS1g+IB+wVkT8X66B5UzSoxExKu846oGkwcCuZD9u9gNe84CFK6q44btkCVkPyG+W7kNsNJIuiIgTW3r0Wj00gTpBVZGk+4F9I+L1NL8F8JtGH7umdA9G+vJdiS92ZyQNJEtOuwEjgFfIalE/yjWwgpH0A6AJuIbsh+BhwCbAI8DXGvXhw5Jej4g+qev9SurhkWNOUFUk6dPAKWS/fIcBVwJfiIhZecZVFOkRNUH2pdIb2BiYGxGfyDWwgpD0PvAw2WN7fp93PEUl6a8RMaKibFZ67NFKyxpFV2ipcCeJKoqIP0rqCdxOdmHyMxHx95zDKoyI+LfyeUlbA/+RUziFUbqRGRhFNkTCEZImAE8B90TEZbkGWDxvSjoU+G2a/xxQ6lzSyL/A6763rGtQVdDMiLp7Av8guxHVI+q2QtLjlYmr0ZR3IpG0JlmS2pVsoDkiYqMcwyscSR8HziW73zDIrvWeTHbf4TYRcV+O4eVG0kJgIi30lo2I79c2oo5zDao6KkfUnZlLFAVX8euuG9lDUJ/PKZzCkTQD6AU8ANwLfLLeH/5ZDakTxAEtLG7I5JQsjIgz8w7iw3ANynKTHgxbUnrU0Q2Nfu+PpCbgZ2T3i72fipf/R62HpplaSgM8Hgd8ghUHLPxibkEVgK9BWask7QycQfYU8x5kVe2IiI/nGVdRlJoYUjMWEbE034gKwzcyd8yvgDnA3sCZwBeA2blGVAx75h3Ah+UaVBVJmkPWFj4TWFYqj4jFuQVVIJK2JPty6ZeKXgbGRcTf8osqf76RuWNKNQVJj0XEVqlj0rSI8Nhidc41qOpaEhF/yjuIArsE+EZE3A0gaUwq2ynHmIrANaeOeTf9fS396HkBWDfHeKyTOEFV192S/ofsGVjLn8EXEY/kF1KhrFFKTgARMVWSRxzuAk0zNXaJpL5kjxWbQtY86ufzdQFu4qsiSXc3UxwRsUfNgykQSbcAJ5B1BHiErJkPsm7U20TEZ/KKzeqPpI0rHx/WXJnVHycoqzlJ/w6cTZaY1ge2T4umAWdExGs5hWZ1qLlrdpJm1sOIsdY6N/FVQWnAuZbu4m70bsIR8RtJfyJrhtmZLFGVfil9kaxmZdYqScPIupZ/VNIhZYv6UNbd3OqXE1R1lK6jNDfuiqusmXfIBpfrRXbNwOfFOmpzYH9gbVa8UfcN4Mt5BGSdy018NSZpfET8Iu848iRpH7Ja0hTgzIh4M+eQrI5J2jEiHsw7Dut83fIOoAG1+PDGBvJd4N8jYoKTk3WCz0jqI6mnpDslLZJ0ZN5B2YfnBFV7DX+PS0TsGhFP5B2HdRlj05hr+5M9LmtT4Nu5RmSdwgmq9tymata5eqa/nyYbEHRJnsFY53EniSpoYQhqyGpPH6lxOGZd3R/SY8X+BXxN0gA+GA/K6pg7SZhZ3ZPUj+zRYsskrQ70iYgX8o7LPhzXoMysKxgGDJFU/p12ZV7BWOdwgjKzuibpV8AmwCw+GDUgcIKqe27iM7O6Jmk2MDz8ZdbluBefmdW7vwEfyzsI63xu4jOzetcfeFLSdFYc1ubA/EKyzuAEZWb17oy8A7Dq8DUoMzMrJNegzKwutXFDfEREnxqHZJ3MNSgzMysk9+IzM7NCcoIyM7NCcoIyM7NCcoIy6yBJUyWNbmOd8emhpaX5f5c0W9Ld1Y/QrGtwgjKrjvHA6mXzxwFfjojd27NxxUNPzRqSE5RZCyQNkTRH0tWp9vPb8lpRWmeipBmSnpD0/VR2ErABcLekuyX9F7ALcJmk/5HUW9Llkh6X9Kik3dN2x0iaIuku4M40f5Ok2yXNl3SipG+kbR5KQ0y0FPtUST+WNF3S3yXtWvaepkl6JL12SuVjJN0j6feSnpZ0jqQvpO0fl7RJWm+ApBskPZxeO1fh1JtlIsIvv/xq5gUMIbvPZuc0Pwn4FjAVGJ3K+qW/3VP5Vml+PtC/bF/l23wTmJSmhwHPAr2BY4Cmsn0eA8wD1gIGAEuAr6ZlPwfGtxL7VOCnaXo/4I40vTrQO00PBWak6THAa8D6QC9gAfD9tOzrwC/S9DXALml6MDA778/Jr677cjOCWeuei4j70/RVwEkVyw+VdDzZTe/rA8OBx9rY5y7A+QARMUfSM8BmadntEfFK2bp3R8QbwBuSlgB/SOWPA1u1cZzfpb8zyZItZMOjXyBpJNnQFJuVrf9wRCwEkPQP4LayY5WaJvcChksqbdNH0poRsbSNWMw6zAnKrHWVd7Ivn5e0MVmNatuIeFXSZLKa0Ifxz4r5t8um3y+bf5+2//+W1l1Wtu7JwIvACLIm/reaWb+1Y3UDdogID6luVedrUGatGyxpxzR9BHBf2bI+ZAlliaT1gH3Llr1B1jTXnGnAFwAkbUbWVDa3M4NuxUeBhRHxPnAUWdNkR9wG/L/STKqJmVWFE5RZ6+YCJ6RB8foCE0sLIuKvwKPAHLJrM/eXbXcJcGsL3covArpJehz4NXBMRLzdzHrVcBEwTtJfya5/VdbY2nISMFrSY5KeBL7a2QGalfhZfGYtkDQEuDkitsw7FrNG5BqUmZkVkmtQZnVM0oVA5b1I50bE5XnEY9aZnKDMzKyQ3MRnZmaF5ARlZmaF5ARlZmaF5ARlZmaF9P8Bef2uZ1hP3QAAAAAASUVORK5CYII=\n",
       "datasetInfos": [],
       "metadata": {},
       "removedWidgets": [],
       "type": "image"
      }
     },
     "output_type": "display_data"
    },
    {
     "output_type": "display_data",
     "data": {
      "image/png": "[encoded data removed]"
     },
     "metadata": {
      "application/vnd.databricks.v1+output": {
       "addedWidgets": {},
       "arguments": {},
       "data": "data:image/png;base64,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\n",
       "datasetInfos": [],
       "metadata": {},
       "removedWidgets": [],
       "type": "image"
      }
     },
     "output_type": "display_data"
    }
   ],
   "source": [
    "from pyspark.sql import SparkSession\n",
    "from pyspark.sql.functions import col\n",
    "\n",
    "# Iniciar sessão Spark\n",
    "spark = SparkSession.builder.appName(\"Visualizar_dim_platform\").getOrCreate()\n",
    "\n",
    "## 1. Carregar a tabela (se já estiver registrada)\n",
    "# dim_platform = spark.table(\"dim_platform\")\n",
    "\n",
    "## 2. Criar dados de exemplo (caso não esteja registrada)\n",
    "dim_platform_data = [\n",
    "    (1, \"TikTok\", \"Rede Social\", 2016, \"ByteDance\", True),\n",
    "    (2, \"Instagram\", \"Rede Social\", 2010, \"Meta\", True),\n",
    "    (3, \"Twitter\", \"Microblogging\", 2006, \"X Corp\", True),\n",
    "    (4, \"YouTube\", \"Plataforma de Vídeo\", 2005, \"Alphabet\", True),\n",
    "    (5, \"LinkedIn\", \"Rede Profissional\", 2003, \"Microsoft\", True)\n",
    "]\n",
    "\n",
    "dim_platform = spark.createDataFrame(\n",
    "    dim_platform_data,\n",
    "    [\"platform_id\", \"platform_name\", \"platform_type\", \"launch_year\", \"parent_company\", \"active_status\"]\n",
    ")\n",
    "\n",
    "## 3. Visualização básica\n",
    "print(\"\\nVisualização completa da tabela:\")\n",
    "dim_platform.show(truncate=False)\n",
    "\n",
    "## 4. Estatísticas descritivas\n",
    "print(\"\\nEstatísticas descritivas:\")\n",
    "dim_platform.describe().show()\n",
    "\n",
    "## 5. Análise por tipo de plataforma\n",
    "print(\"\\nContagem por tipo de plataforma:\")\n",
    "dim_platform.groupBy(\"platform_type\").count().show()\n",
    "\n",
    "## 6. Visualização tabular formatada (para Jupyter Notebook)\n",
    "display(dim_platform)\n",
    "\n",
    "## 7. Visualização gráfica (requer matplotlib)\n",
    "try:\n",
    "    import matplotlib.pyplot as plt\n",
    "    import pandas as pd\n",
    "    \n",
    "    # Converter para pandas\n",
    "    pd_df = dim_platform.toPandas()\n",
    "    \n",
    "    # Gráfico 1: Distribuição por ano de lançamento\n",
    "    plt.figure(figsize=(10, 4))\n",
    "    pd_df.sort_values(\"launch_year\").plot.bar(\n",
    "        x=\"platform_name\", \n",
    "        y=\"launch_year\",\n",
    "        color=\"skyblue\",\n",
    "        title=\"Ano de Lançamento das Plataformas\"\n",
    "    )\n",
    "    plt.ylabel(\"Ano\")\n",
    "    plt.tight_layout()\n",
    "    plt.show()\n",
    "    \n",
    "    # Gráfico 2: Proporção por tipo\n",
    "    plt.figure(figsize=(6, 6))\n",
    "    pd_df[\"platform_type\"].value_counts().plot.pie(\n",
    "        autopct=\"%1.1f%%\",\n",
    "        title=\"Distribuição por Tipo de Plataforma\"\n",
    "    )\n",
    "    plt.ylabel(\"\")\n",
    "    plt.show()\n",
    "    \n",
    "except ImportError:\n",
    "    print(\"Para visualizações gráficas, instale matplotlib: pip install matplotlib\")"
   ]
  },
  {
   "cell_type": "markdown",
   "metadata": {
    "application/vnd.databricks.v1+cell": {
     "cellMetadata": {
      "byteLimit": 2048000,
      "rowLimit": 10000
     },
     "inputWidgets": {},
     "nuid": "b008fdb3-c87f-4915-890c-cbfc6d307a37",
     "showTitle": false,
     "tableResultSettingsMap": {},
     "title": ""
    }
   },
   "source": [
    "**7.2 Tabela hashtag_id**\n",
    "\n",
    "hashtag_id é a chave primária numérica que identifica de forma única cada hashtag na tabela de dimensão dim_hashtag. Funciona como:\n",
    "\n",
    "Identificador técnico para joins eficientes\n",
    "\n",
    "Sistema de referência para análises de engajamento\n",
    "\n",
    "Chave de ligação entre a tabela de fatos (fact_post_engagement) e a dimensão de hashtags"
   ]
  },
  {
   "cell_type": "markdown",
   "metadata": {
    "application/vnd.databricks.v1+cell": {
     "cellMetadata": {
      "byteLimit": 2048000,
      "rowLimit": 10000
     },
     "inputWidgets": {},
     "nuid": "37626ed9-f749-4c54-926f-8d72bdac285b",
     "showTitle": false,
     "tableResultSettingsMap": {},
     "title": ""
    }
   },
   "source": [
    "**Código para a Visualização dos Dados da Dim_hashtag:**"
   ]
  },
  {
   "cell_type": "code",
   "execution_count": 0,
   "metadata": {
    "application/vnd.databricks.v1+cell": {
     "cellMetadata": {
      "byteLimit": 2048000,
      "rowLimit": 10000
     },
     "inputWidgets": {},
     "nuid": "b7200530-0cd3-4bd3-a457-59b9fbb419bd",
     "showTitle": false,
     "tableResultSettingsMap": {},
     "title": ""
    }
   },
   "outputs": [
    {
     "output_type": "stream",
     "name": "stdout",
     "output_type": "stream",
     "text": [
      "==================================================\nVISUALIZAÇÃO COMPLETA DA DIM_HASHTAG\n==================================================\n+----------+------------+----------------+\n|hashtag_id|hashtag_name|hashtag_category|\n+----------+------------+----------------+\n|1         |#Fitness    |Saúde           |\n|2         |#Tech       |Tecnologia      |\n|3         |#Education  |Educação        |\n|4         |#Viral      |Viral           |\n|5         |#Gaming     |Jogos           |\n+----------+------------+----------------+\n\n\nESTATÍSTICAS DESCRITIVAS:\n+-------+------------------+------------+----------------+\n|summary|        hashtag_id|hashtag_name|hashtag_category|\n+-------+------------------+------------+----------------+\n|  count|                 5|           5|               5|\n|   mean|               3.0|        null|            null|\n| stddev|1.5811388300841898|        null|            null|\n|    min|                 1|  #Education|        Educação|\n|    max|                 5|      #Viral|           Viral|\n+-------+------------------+------------+----------------+\n\n\nCONTAGEM POR CATEGORIA:\n+----------------+-----+\n|hashtag_category|count|\n+----------------+-----+\n|           Saúde|    1|\n|      Tecnologia|    1|\n|        Educação|    1|\n|           Viral|    1|\n|           Jogos|    1|\n+----------------+-----+\n\n"
     ]
    },
    {
     "output_type": "display_data",
     "data": {
      "image/png": "[encoded data removed]"
     },
     "metadata": {
      "application/vnd.databricks.v1+output": {
       "addedWidgets": {},
       "arguments": {},
       "data": "data:image/png;base64,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\n",
       "datasetInfos": [],
       "metadata": {},
       "removedWidgets": [],
       "type": "image"
      }
     },
     "output_type": "display_data"
    },
    {
     "output_type": "display_data",
     "data": {
      "image/png": "[encoded data removed]"
     },
     "metadata": {
      "application/vnd.databricks.v1+output": {
       "addedWidgets": {},
       "arguments": {},
       "data": "data:image/png;base64,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\n",
       "datasetInfos": [],
       "metadata": {},
       "removedWidgets": [],
       "type": "image"
      }
     },
     "output_type": "display_data"
    },
    {
     "output_type": "display_data",
     "data": {
      "text/html": [
       "<style scoped>\n",
       "  .table-result-container {\n",
       "    max-height: 300px;\n",
       "    overflow: auto;\n",
       "  }\n",
       "  table, th, td {\n",
       "    border: 1px solid black;\n",
       "    border-collapse: collapse;\n",
       "  }\n",
       "  th, td {\n",
       "    padding: 5px;\n",
       "  }\n",
       "  th {\n",
       "    text-align: left;\n",
       "  }\n",
       "</style><div class='table-result-container'><table class='table-result'><thead style='background-color: white'><tr><th>hashtag_id</th><th>hashtag_name</th><th>hashtag_category</th></tr></thead><tbody><tr><td>1</td><td>#Fitness</td><td>Saúde</td></tr><tr><td>2</td><td>#Tech</td><td>Tecnologia</td></tr><tr><td>3</td><td>#Education</td><td>Educação</td></tr><tr><td>4</td><td>#Viral</td><td>Viral</td></tr><tr><td>5</td><td>#Gaming</td><td>Jogos</td></tr></tbody></table></div>"
      ]
     },
     "metadata": {
      "application/vnd.databricks.v1+output": {
       "addedWidgets": {},
       "aggData": [],
       "aggError": "",
       "aggOverflow": false,
       "aggSchema": [],
       "aggSeriesLimitReached": false,
       "aggType": "",
       "arguments": {},
       "columnCustomDisplayInfos": {},
       "data": [
        [
         1,
         "#Fitness",
         "Saúde"
        ],
        [
         2,
         "#Tech",
         "Tecnologia"
        ],
        [
         3,
         "#Education",
         "Educação"
        ],
        [
         4,
         "#Viral",
         "Viral"
        ],
        [
         5,
         "#Gaming",
         "Jogos"
        ]
       ],
       "datasetInfos": [],
       "dbfsResultPath": null,
       "isJsonSchema": true,
       "metadata": {},
       "overflow": false,
       "plotOptions": {
        "customPlotOptions": {},
        "displayType": "table",
        "pivotAggregation": null,
        "pivotColumns": null,
        "xColumns": null,
        "yColumns": null
       },
       "removedWidgets": [],
       "schema": [
        {
         "metadata": "{}",
         "name": "hashtag_id",
         "type": "\"long\""
        },
        {
         "metadata": "{}",
         "name": "hashtag_name",
         "type": "\"string\""
        },
        {
         "metadata": "{}",
         "name": "hashtag_category",
         "type": "\"string\""
        }
       ],
       "type": "table"
      }
     },
     "output_type": "display_data"
    }
   ],
   "source": [
    "from pyspark.sql.functions import col, count\n",
    "import matplotlib.pyplot as plt\n",
    "import pandas as pd\n",
    "\n",
    "# Iniciar sessão Spark\n",
    "spark = SparkSession.builder.appName(\"Visualizar_dim_hashtag\").getOrCreate()\n",
    "\n",
    "## 1. Carregar a tabela (se já estiver registrada)\n",
    "# dim_hashtag = spark.table(\"dim_hashtag\")\n",
    "\n",
    "## 2. Criar dados de exemplo (caso não esteja registrada)\n",
    "dim_hashtag_data = [\n",
    "    (1, \"#Fitness\", \"Saúde\"),\n",
    "    (2, \"#Tech\", \"Tecnologia\"),\n",
    "    (3, \"#Education\", \"Educação\"),\n",
    "    (4, \"#Viral\", \"Viral\"),\n",
    "    (5, \"#Gaming\", \"Jogos\")\n",
    "]\n",
    "\n",
    "dim_hashtag = spark.createDataFrame(\n",
    "    dim_hashtag_data,\n",
    "    [\"hashtag_id\", \"hashtag_name\", \"hashtag_category\"]\n",
    ")\n",
    "\n",
    "## 3. Visualização básica\n",
    "print(\"=\"*50)\n",
    "print(\"VISUALIZAÇÃO COMPLETA DA DIM_HASHTAG\")\n",
    "print(\"=\"*50)\n",
    "dim_hashtag.show(truncate=False)\n",
    "\n",
    "## 4. Estatísticas descritivas\n",
    "print(\"\\nESTATÍSTICAS DESCRITIVAS:\")\n",
    "dim_hashtag.describe().show()\n",
    "\n",
    "## 5. Análise por categoria\n",
    "print(\"\\nCONTAGEM POR CATEGORIA:\")\n",
    "dim_hashtag.groupBy(\"hashtag_category\").count().orderBy(\"count\", ascending=False).show()\n",
    "\n",
    "## 6. Visualização gráfica (requer matplotlib)\n",
    "try:\n",
    "    # Converter para pandas\n",
    "    pd_hashtag = dim_hashtag.toPandas()\n",
    "    \n",
    "    # Gráfico 1: Distribuição por categoria\n",
    "    plt.figure(figsize=(10, 5))\n",
    "    pd_hashtag[\"hashtag_category\"].value_counts().plot.bar(\n",
    "        color='skyblue',\n",
    "        title='Distribuição de Hashtags por Categoria'\n",
    "    )\n",
    "    plt.xlabel(\"Categoria\")\n",
    "    plt.ylabel(\"Quantidade\")\n",
    "    plt.xticks(rotation=45)\n",
    "    plt.tight_layout()\n",
    "    plt.show()\n",
    "    \n",
    "    # Gráfico 2: Top hashtags (exemplo com dados fictícios de engajamento)\n",
    "    # (Para usar com dados reais, faça join com fact_post_engagement)\n",
    "    plt.figure(figsize=(10, 5))\n",
    "    pd_hashtag[\"hashtag_name\"].value_counts().plot.pie(\n",
    "        autopct='%1.1f%%',\n",
    "        title='Proporção de Hashtags',\n",
    "        colors=['#ff9999','#66b3ff','#99ff99','#ffcc99']\n",
    "    )\n",
    "    plt.ylabel(\"\")\n",
    "    plt.show()\n",
    "    \n",
    "except ImportError:\n",
    "    print(\"\\nPara visualizações gráficas, instale matplotlib: pip install matplotlib\")\n",
    "\n",
    "## 7. Visualização interativa (Databricks/Jupyter)\n",
    "try:\n",
    "    display(dim_hashtag)\n",
    "except:\n",
    "    print(\"\\nFunção display() não disponível neste ambiente\")"
   ]
  },
  {
   "cell_type": "markdown",
   "metadata": {
    "application/vnd.databricks.v1+cell": {
     "cellMetadata": {
      "byteLimit": 2048000,
      "rowLimit": 10000
     },
     "inputWidgets": {},
     "nuid": "49054c33-87f4-435c-91f4-6b5184da1965",
     "showTitle": false,
     "tableResultSettingsMap": {},
     "title": ""
    }
   },
   "source": [
    "**7.3 Dimensão content_type_id**\n",
    "\n",
    "\n",
    "**Definição e Propósito**\n",
    "\n",
    "content_type_id é uma chave numérica que identifica exclusivamente o formato de conteúdo publicado nas redes sociais. Suas principais funções são:\n",
    "\n",
    "Classificação Padronizada: Categoriza posts por tipo de mídia\n",
    "\n",
    "Chave de Relacionamento: Liga a tabela de fatos (fact_post_engagement) à dimensão de tipos de conteúdo (dim_content_type)\n",
    "\n",
    "Análise de Performance: Permite comparar engajamento por formato\n",
    "\n",
    "Metadados Técnicos"
   ]
  },
  {
   "cell_type": "markdown",
   "metadata": {
    "application/vnd.databricks.v1+cell": {
     "cellMetadata": {
      "byteLimit": 2048000,
      "rowLimit": 10000
     },
     "inputWidgets": {},
     "nuid": "29f482a2-af65-47e8-ba13-0229c345c5dd",
     "showTitle": false,
     "tableResultSettingsMap": {},
     "title": ""
    }
   },
   "source": [
    "**Código para visulizar os dados da dimensão Content_Types:**"
   ]
  },
  {
   "cell_type": "code",
   "execution_count": 0,
   "metadata": {
    "application/vnd.databricks.v1+cell": {
     "cellMetadata": {
      "byteLimit": 2048000,
      "rowLimit": 10000
     },
     "inputWidgets": {},
     "nuid": "615d4658-f8ea-4d20-bdeb-a9e2f5595002",
     "showTitle": false,
     "tableResultSettingsMap": {},
     "title": ""
    }
   },
   "outputs": [
    {
     "output_type": "stream",
     "name": "stdout",
     "output_type": "stream",
     "text": [
      "============================================================\nTABELA DIM_CONTENT_TYPE (COMPLETA)\n============================================================\n+---------------+------------+-------------------+---------+\n|content_type_id|content_type|content_format     |is_active|\n+---------------+------------+-------------------+---------+\n|1              |Video       |Vídeo Longo        |true     |\n|2              |Reel        |Vídeo Curto        |true     |\n|3              |Image       |Imagem             |true     |\n|4              |Live        |Transmissão Ao Vivo|true     |\n|5              |Carousel    |Múltiplas Imagens  |false    |\n+---------------+------------+-------------------+---------+\n\n\nESTATÍSTICAS:\n+-------+------------------+\n|summary|   content_type_id|\n+-------+------------------+\n|  count|                 5|\n|   mean|               3.0|\n| stddev|1.5811388300841898|\n|    min|                 1|\n|    max|                 5|\n+-------+------------------+\n\n\nDISTRIBUIÇÃO DE FORMATOS ATIVOS:\n+-------------------+------------+\n|     content_format|qtd_formatos|\n+-------------------+------------+\n|        Vídeo Longo|           1|\n|        Vídeo Curto|           1|\n|             Imagem|           1|\n|Transmissão Ao Vivo|           1|\n+-------------------+------------+\n\n"
     ]
    },
    {
     "output_type": "display_data",
     "data": {
      "image/png": "[encoded data removed]"
     },
     "metadata": {
      "application/vnd.databricks.v1+output": {
       "addedWidgets": {},
       "arguments": {},
       "data": "data:image/png;base64,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\n",
       "datasetInfos": [],
       "metadata": {},
       "removedWidgets": [],
       "type": "image"
      }
     },
     "output_type": "display_data"
    },
    {
     "output_type": "display_data",
     "data": {
      "image/png": "[encoded data removed]"
     },
     "metadata": {
      "application/vnd.databricks.v1+output": {
       "addedWidgets": {},
       "arguments": {},
       "data": "data:image/png;base64,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\n",
       "datasetInfos": [],
       "metadata": {},
       "removedWidgets": [],
       "type": "image"
      }
     },
     "output_type": "display_data"
    },
    {
     "output_type": "stream",
     "name": "stdout",
     "output_type": "stream",
     "text": [
      "\nEXEMPLO DE ANÁLISE CRUZADA (DADOS SIMULADOS):\n+------------+-----------+---------+\n|content_type|total_posts|avg_views|\n+------------+-----------+---------+\n|        Reel|          1| 150000.0|\n|       Video|          2|  90000.0|\n|       Image|          1|  50000.0|\n+------------+-----------+---------+\n\n"
     ]
    },
    {
     "output_type": "display_data",
     "data": {
      "text/html": [
       "<style scoped>\n",
       "  .table-result-container {\n",
       "    max-height: 300px;\n",
       "    overflow: auto;\n",
       "  }\n",
       "  table, th, td {\n",
       "    border: 1px solid black;\n",
       "    border-collapse: collapse;\n",
       "  }\n",
       "  th, td {\n",
       "    padding: 5px;\n",
       "  }\n",
       "  th {\n",
       "    text-align: left;\n",
       "  }\n",
       "</style><div class='table-result-container'><table class='table-result'><thead style='background-color: white'><tr><th>content_type_id</th><th>content_type</th><th>content_format</th><th>is_active</th></tr></thead><tbody><tr><td>1</td><td>Video</td><td>Vídeo Longo</td><td>true</td></tr><tr><td>2</td><td>Reel</td><td>Vídeo Curto</td><td>true</td></tr><tr><td>3</td><td>Image</td><td>Imagem</td><td>true</td></tr><tr><td>4</td><td>Live</td><td>Transmissão Ao Vivo</td><td>true</td></tr><tr><td>5</td><td>Carousel</td><td>Múltiplas Imagens</td><td>false</td></tr></tbody></table></div>"
      ]
     },
     "metadata": {
      "application/vnd.databricks.v1+output": {
       "addedWidgets": {},
       "aggData": [],
       "aggError": "",
       "aggOverflow": false,
       "aggSchema": [],
       "aggSeriesLimitReached": false,
       "aggType": "",
       "arguments": {},
       "columnCustomDisplayInfos": {},
       "data": [
        [
         1,
         "Video",
         "Vídeo Longo",
         true
        ],
        [
         2,
         "Reel",
         "Vídeo Curto",
         true
        ],
        [
         3,
         "Image",
         "Imagem",
         true
        ],
        [
         4,
         "Live",
         "Transmissão Ao Vivo",
         true
        ],
        [
         5,
         "Carousel",
         "Múltiplas Imagens",
         false
        ]
       ],
       "datasetInfos": [],
       "dbfsResultPath": null,
       "isJsonSchema": true,
       "metadata": {},
       "overflow": false,
       "plotOptions": {
        "customPlotOptions": {},
        "displayType": "table",
        "pivotAggregation": null,
        "pivotColumns": null,
        "xColumns": null,
        "yColumns": null
       },
       "removedWidgets": [],
       "schema": [
        {
         "metadata": "{}",
         "name": "content_type_id",
         "type": "\"long\""
        },
        {
         "metadata": "{}",
         "name": "content_type",
         "type": "\"string\""
        },
        {
         "metadata": "{}",
         "name": "content_format",
         "type": "\"string\""
        },
        {
         "metadata": "{}",
         "name": "is_active",
         "type": "\"boolean\""
        }
       ],
       "type": "table"
      }
     },
     "output_type": "display_data"
    }
   ],
   "source": [
    "from pyspark.sql.functions import col, count, avg\n",
    "import pandas as pd\n",
    "\n",
    "# Iniciar sessão Spark\n",
    "spark = SparkSession.builder.appName(\"Visualizar_Content_Types\").getOrCreate()\n",
    "\n",
    "## 1. Criar dados de exemplo para dim_content_type\n",
    "dim_content_type_data = [\n",
    "    (1, \"Video\", \"Vídeo Longo\", True),\n",
    "    (2, \"Reel\", \"Vídeo Curto\", True),\n",
    "    (3, \"Image\", \"Imagem\", True),\n",
    "    (4, \"Live\", \"Transmissão Ao Vivo\", True),\n",
    "    (5, \"Carousel\", \"Múltiplas Imagens\", False)  # Exemplo inativo\n",
    "]\n",
    "\n",
    "dim_content_type = spark.createDataFrame(\n",
    "    dim_content_type_data,\n",
    "    [\"content_type_id\", \"content_type\", \"content_format\", \"is_active\"]\n",
    ")\n",
    "\n",
    "## 2. Visualização básica da dimensão\n",
    "print(\"=\"*60)\n",
    "print(\"TABELA DIM_CONTENT_TYPE (COMPLETA)\")\n",
    "print(\"=\"*60)\n",
    "dim_content_type.show(truncate=False)\n",
    "\n",
    "## 3. Estatísticas descritivas\n",
    "print(\"\\nESTATÍSTICAS:\")\n",
    "dim_content_type.describe([\"content_type_id\"]).show()\n",
    "\n",
    "## 4. Análise de distribuição\n",
    "print(\"\\nDISTRIBUIÇÃO DE FORMATOS ATIVOS:\")\n",
    "dim_content_type.filter(col(\"is_active\") == True).groupBy(\"content_format\").agg(\n",
    "    count(\"*\").alias(\"qtd_formatos\")\n",
    ").show()\n",
    "\n",
    "## 5. Visualização gráfica (requer matplotlib)\n",
    "try:\n",
    "    # Converter para pandas\n",
    "    pd_content = dim_content_type.toPandas()\n",
    "    \n",
    "    # Gráfico 1: Tipos ativos vs inativos\n",
    "    plt.figure(figsize=(8, 4))\n",
    "    pd_content['is_active'].value_counts().plot.bar(\n",
    "        title='Tipos de Conteúdo: Ativos vs Inativos',\n",
    "        color=['green', 'red'],\n",
    "        rot=0\n",
    "    )\n",
    "    plt.xlabel(\"Status\")\n",
    "    plt.ylabel(\"Quantidade\")\n",
    "    plt.xticks([0, 1], ['Ativos', 'Inativos'])\n",
    "    plt.tight_layout()\n",
    "    plt.show()\n",
    "    \n",
    "    # Gráfico 2: Distribuição de formatos\n",
    "    plt.figure(figsize=(10, 5))\n",
    "    pd_content[pd_content['is_active']].groupby('content_format').size().plot.pie(\n",
    "        autopct='%1.1f%%',\n",
    "        title='Distribuição de Formatos Ativos',\n",
    "        colors=['#ff9999','#66b3ff','#99ff99','#ffcc99'],\n",
    "        startangle=90\n",
    "    )\n",
    "    plt.ylabel(\"\")\n",
    "    plt.show()\n",
    "\n",
    "except ImportError:\n",
    "    print(\"\\nPara visualizações gráficas, instale matplotlib: pip install matplotlib\")\n",
    "\n",
    "## 6. Análise cruzada com dados de engajamento (exemplo simulado)\n",
    "print(\"\\nEXEMPLO DE ANÁLISE CRUZADA (DADOS SIMULADOS):\")\n",
    "\n",
    "# Simular fact_post_engagement para demonstração\n",
    "fact_data = [\n",
    "    (\"post1\", 1, 100000), (\"post2\", 2, 150000), \n",
    "    (\"post3\", 1, 80000), (\"post4\", 3, 50000)\n",
    "]\n",
    "fact_df = spark.createDataFrame(fact_data, [\"post_id\", \"content_type_id\", \"views\"])\n",
    "\n",
    "analysis_df = (fact_df\n",
    "    .join(dim_content_type, \"content_type_id\")\n",
    "    .groupBy(\"content_type\")\n",
    "    .agg(\n",
    "        count(\"*\").alias(\"total_posts\"),\n",
    "        avg(\"views\").alias(\"avg_views\")\n",
    "    )\n",
    "    .orderBy(\"avg_views\", ascending=False)\n",
    ")\n",
    "\n",
    "analysis_df.show()\n",
    "\n",
    "## 7. Visualização interativa (Databricks/Jupyter)\n",
    "try:\n",
    "    display(dim_content_type)\n",
    "except:\n",
    "    print(\"\\nFunção display() não disponível neste ambiente\")"
   ]
  },
  {
   "cell_type": "markdown",
   "metadata": {
    "application/vnd.databricks.v1+cell": {
     "cellMetadata": {
      "byteLimit": 2048000,
      "rowLimit": 10000
     },
     "inputWidgets": {},
     "nuid": "e33a98b3-6dc0-4446-82b3-3e62173a1f7d",
     "showTitle": false,
     "tableResultSettingsMap": {},
     "title": ""
    }
   },
   "source": [
    "**7.4 Dimensão region_id**\n",
    "\n",
    "\n",
    "**Definição e Propósito**\n",
    "\n",
    "region_id é uma chave primária numérica que identifica exclusivamente localizações geográficas no seu modelo de dados. Suas funções principais são:\n",
    "\n",
    "Geolocalização de Conteúdo: Relaciona posts a regiões específicas\n",
    "\n",
    "Análise Regional: Permite comparar engajamento por área geográfica\n",
    "\n",
    "Personalização: Suporta estratégias de conteúdo localizado"
   ]
  },
  {
   "cell_type": "markdown",
   "metadata": {
    "application/vnd.databricks.v1+cell": {
     "cellMetadata": {
      "byteLimit": 2048000,
      "rowLimit": 10000
     },
     "inputWidgets": {},
     "nuid": "30711b2b-292b-4a74-b852-4ddb6c521bbe",
     "showTitle": false,
     "tableResultSettingsMap": {},
     "title": ""
    }
   },
   "source": [
    "### 8.Solução dos problemas\n",
    "\n",
    "Primeira pergunta\n",
    "\n",
    "1. **Qual a plataforma que gera mais engajamento?**\n",
    "\n",
    "Vamos executar a consulta:"
   ]
  },
  {
   "cell_type": "markdown",
   "metadata": {
    "application/vnd.databricks.v1+cell": {
     "cellMetadata": {
      "byteLimit": 2048000,
      "rowLimit": 10000
     },
     "inputWidgets": {},
     "nuid": "1da76cdb-fac1-4f53-a8cd-0a4d71e21313",
     "showTitle": false,
     "tableResultSettingsMap": {},
     "title": ""
    }
   },
   "source": [
    "**Código para executar a consulta:**"
   ]
  },
  {
   "cell_type": "code",
   "execution_count": 0,
   "metadata": {
    "application/vnd.databricks.v1+cell": {
     "cellMetadata": {
      "byteLimit": 2048000,
      "rowLimit": 10000
     },
     "inputWidgets": {},
     "nuid": "dbc646f0-9471-48de-9797-82b6d78a0973",
     "showTitle": false,
     "tableResultSettingsMap": {},
     "title": ""
    }
   },
   "outputs": [],
   "source": [
    "from pyspark.sql.types import *\n",
    "from pyspark.sql import functions as F\n",
    "\n",
    "spark = SparkSession.builder.appName(\"ViralAnalysis\").getOrCreate()\n",
    "\n",
    "# Criar DIM_PLATFORM com dados reais\n",
    "dim_platform_data = [(1, \"TikTok\", \"Rede Social\"), \n",
    "                    (2, \"Instagram\", \"Rede Social\"),\n",
    "                    (3, \"Twitter\", \"Rede Social\"),\n",
    "                    (4, \"YouTube\", \"Plataforma de Vídeo\")]\n",
    "\n",
    "dim_platform = spark.createDataFrame(dim_platform_data, [\"platform_id\", \"platform_name\", \"platform_type\"])\n",
    "\n",
    "# Criar FACT_POST_ENGAGEMENT com dados reais (exemplo)\n",
    "fact_data = [(\"Post_1\", 4163464, 339431, 53135, 19346, 0.097, 1, 1, 1, 1),\n",
    "            (\"Post_2\", 4155940, 215240, 65860, 27239, 0.074, 2, 2, 2, 2)]\n",
    "\n",
    "fact_post_engagement = spark.createDataFrame(fact_data, [\"post_id\", \"views\", \"likes\", \"shares\", \"comments\", \n",
    "                                                       \"engagement_score\", \"platform_id\", \"hashtag_id\", \n",
    "                                                       \"content_type_id\", \"region_id\"])"
   ]
  },
  {
   "cell_type": "markdown",
   "metadata": {
    "application/vnd.databricks.v1+cell": {
     "cellMetadata": {
      "byteLimit": 2048000,
      "rowLimit": 10000
     },
     "inputWidgets": {},
     "nuid": "f35c74df-eb80-43e5-86bc-fa5447c21849",
     "showTitle": false,
     "tableResultSettingsMap": {},
     "title": ""
    }
   },
   "source": [
    "**Código para análise de engajamento em posts por plataforma, combinando dados da tabela de fatos com a tabela de dimensões e calculando métricas agregadas:**"
   ]
  },
  {
   "cell_type": "code",
   "execution_count": 0,
   "metadata": {
    "application/vnd.databricks.v1+cell": {
     "cellMetadata": {
      "byteLimit": 2048000,
      "rowLimit": 10000
     },
     "inputWidgets": {},
     "nuid": "a3324c1d-512b-4ee5-889d-b5ddf86336a6",
     "showTitle": false,
     "tableResultSettingsMap": {},
     "title": ""
    }
   },
   "outputs": [
    {
     "output_type": "stream",
     "name": "stdout",
     "output_type": "stream",
     "text": [
      "+-------------+---------+--------------------+\n|platform_name|avg_views|avg_engagement_score|\n+-------------+---------+--------------------+\n|       TikTok|4163464.0|               0.097|\n|    Instagram|4155940.0|               0.074|\n+-------------+---------+--------------------+\n\n"
     ]
    }
   ],
   "source": [
    "# Consulta \n",
    "df_result = fact_post_engagement.join(\n",
    "    dim_platform, \n",
    "    fact_post_engagement[\"platform_id\"] == dim_platform[\"platform_id\"]\n",
    ").groupBy(\"platform_name\").agg(\n",
    "    F.avg(\"views\").alias(\"avg_views\"),\n",
    "    F.avg(\"engagement_score\").alias(\"avg_engagement_score\")\n",
    ")\n",
    "\n",
    "df_result.show()"
   ]
  },
  {
   "cell_type": "markdown",
   "metadata": {
    "application/vnd.databricks.v1+cell": {
     "cellMetadata": {
      "byteLimit": 2048000,
      "rowLimit": 10000
     },
     "inputWidgets": {},
     "nuid": "62f6e2b8-9a34-4fe0-aed2-3176be4ea196",
     "showTitle": false,
     "tableResultSettingsMap": {},
     "title": ""
    }
   },
   "source": [
    "**Analisando os resultados:**\n",
    "\n",
    "**1. Comparação de Visualizações (avg_views)**\n",
    "\n",
    "\n",
    "TikTok: 4.163.464 visualizações médias\n",
    "\n",
    "Instagram: 4.155.940 visualizações médias\n",
    "\n",
    "Diferença: 7.524 visualizações a mais no TikTok (0.18% de diferença)\n",
    "\n",
    "Interpretação: Ambas as plataformas apresentam números de visualização muito próximos, com uma ligeira vantagem para o TikTok. Isso sugere que, para este conjunto de dados específico, o alcance orgânico é bastante similar nas duas plataformas.\n",
    "\n",
    "**2. Comparação de Engajamento (avg_engagement_score)**\n",
    "\n",
    "\n",
    "TikTok: 0.097 (9.7% de taxa de engajamento)\n",
    "\n",
    "Instagram: 0.074 (7.4% de taxa de engajamento)\n",
    "\n",
    "Diferença: O TikTok tem 31% mais engajamento relativo que o Instagram\n",
    "\n",
    "Interpretação: Aqui vemos uma diferença mais significativa. Apesar do número similar de visualizações, o conteúdo no TikTok está gerando:\n",
    "\n",
    "31% mais engajamento proporcional\n",
    "\n",
    "Indica que os usuários do TikTok estão mais propensos a interagir com o conteúdo (curtir, comentar, compartilhar)"
   ]
  },
  {
   "cell_type": "code",
   "execution_count": 0,
   "metadata": {
    "application/vnd.databricks.v1+cell": {
     "cellMetadata": {
      "byteLimit": 2048000,
      "rowLimit": 10000
     },
     "inputWidgets": {},
     "nuid": "36f92b0e-da23-4967-afaa-be3cc779e2f6",
     "showTitle": false,
     "tableResultSettingsMap": {},
     "title": ""
    }
   },
   "outputs": [
    {
     "output_type": "stream",
     "name": "stdout",
     "output_type": "stream",
     "text": [
      "Schema da FACT_POST_ENGAGEMENT:\nroot\n |-- post_id: string (nullable = true)\n |-- views: long (nullable = true)\n |-- likes: long (nullable = true)\n |-- shares: long (nullable = true)\n |-- comments: long (nullable = true)\n |-- engagement_score: double (nullable = true)\n |-- platform_id: long (nullable = true)\n |-- hashtag_id: long (nullable = true)\n |-- content_type_id: long (nullable = true)\n |-- region_id: long (nullable = true)\n\n\nSchema da DIM_PLATFORM:\nroot\n |-- platform_id: long (nullable = true)\n |-- platform_name: string (nullable = true)\n |-- platform_type: string (nullable = true)\n\n"
     ]
    }
   ],
   "source": [
    "print(\"Schema da FACT_POST_ENGAGEMENT:\")\n",
    "fact_post_engagement.printSchema()\n",
    "\n",
    "print(\"\\nSchema da DIM_PLATFORM:\")\n",
    "dim_platform.printSchema()"
   ]
  },
  {
   "cell_type": "markdown",
   "metadata": {
    "application/vnd.databricks.v1+cell": {
     "cellMetadata": {
      "byteLimit": 2048000,
      "rowLimit": 10000
     },
     "inputWidgets": {},
     "nuid": "fd4d75b2-ece6-41b2-893b-446f0ace8e4b",
     "showTitle": false,
     "tableResultSettingsMap": {},
     "title": ""
    }
   },
   "source": [
    "**Código para realizar uma análise completa de dados de mídia social, desde o carregamento até a visualização, passando por testes estatísticos:**"
   ]
  },
  {
   "cell_type": "code",
   "execution_count": 0,
   "metadata": {
    "application/vnd.databricks.v1+cell": {
     "cellMetadata": {
      "byteLimit": 2048000,
      "rowLimit": 10000
     },
     "inputWidgets": {},
     "nuid": "318c0221-d9e2-4a30-bac4-917a1c977f25",
     "showTitle": false,
     "tableResultSettingsMap": {},
     "title": ""
    }
   },
   "outputs": [
    {
     "output_type": "stream",
     "name": "stdout",
     "output_type": "stream",
     "text": [
      "+---------+-----------------+------------------+-----+\n| Platform|   Avg_Engagement|         Avg_Views|Posts|\n+---------+-----------------+------------------+-----+\n|  YouTube|333708.4841389728| 2545648.398791541| 1324|\n|Instagram|332387.2409240924|2404079.8778877887| 1212|\n|  Twitter|320564.7267441861|2506004.5863787374| 1204|\n|   TikTok| 320453.673015873|2515015.4015873014| 1260|\n+---------+-----------------+------------------+-----+\n\n\nResultado do teste Kruskal-Wallis:\nH-statistic = 9.03, p-value = 0.0289\n✅ Há diferenças significativas no engajamento entre plataformas.\n"
     ]
    },
    {
     "output_type": "display_data",
     "data": {
      "image/png": "[encoded data removed]"
     },
     "metadata": {
      "application/vnd.databricks.v1+output": {
       "addedWidgets": {},
       "arguments": {},
       "data": "data:image/png;base64,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\n",
       "datasetInfos": [],
       "metadata": {},
       "removedWidgets": [],
       "type": "image"
      }
     },
     "output_type": "display_data"
    }
   ],
   "source": [
    "\n",
    "from pyspark.sql.functions import col, sum, count, mean, expr\n",
    "import seaborn as sns\n",
    "from scipy import stats\n",
    "\n",
    "# Inicializar Spark\n",
    "spark = SparkSession.builder.appName(\"EngagementAnalysis\").getOrCreate()\n",
    "\n",
    "# 1. Carregar dados do Delta Lake\n",
    "df = spark.read.format(\"delta\").load(\"/mnt/delta/viral_social_media_data\")\n",
    "\n",
    "# 2. Calcular engajamento total (Likes + Shares + Comments)\n",
    "df = df.withColumn(\"Engagement\", col(\"Likes\") + col(\"Shares\") + col(\"Comments\"))\n",
    "\n",
    "# 3. Análise descritiva por plataforma\n",
    "platform_stats = df.groupBy(\"Platform\").agg(\n",
    "    mean(\"Engagement\").alias(\"Avg_Engagement\"),\n",
    "    mean(\"Views\").alias(\"Avg_Views\"),\n",
    "    count(\"*\").alias(\"Posts\")\n",
    ").orderBy(\"Avg_Engagement\", ascending=False)\n",
    "\n",
    "platform_stats.show()\n",
    "\n",
    "# 4. Converter para Pandas para análise estatística\n",
    "df_pandas = df.select(\"Platform\", \"Engagement\").toPandas()\n",
    "\n",
    "# 5. Teste de hipótese (Kruskal-Wallis para dados não paramétricos)\n",
    "platforms = df_pandas[\"Platform\"].unique()\n",
    "groups = [df_pandas[df_pandas[\"Platform\"] == p][\"Engagement\"] for p in platforms]\n",
    "\n",
    "h_stat, p_value = stats.kruskal(*groups)\n",
    "print(f\"\\nResultado do teste Kruskal-Wallis:\\nH-statistic = {h_stat:.2f}, p-value = {p_value:.4f}\")\n",
    "\n",
    "if p_value < 0.05:\n",
    "    print(\"✅ Há diferenças significativas no engajamento entre plataformas.\")\n",
    "else:\n",
    "    print(\"❌ Não há diferenças significativas.\")\n",
    "\n",
    "# 6. Visualização (Boxplot por plataforma)\n",
    "plt.figure(figsize=(10, 6))\n",
    "sns.boxplot(data=df_pandas, x=\"Platform\", y=\"Engagement\")\n",
    "plt.title(\"Distribuição do Engajamento por Plataforma\")\n",
    "plt.xticks(rotation=45)\n",
    "plt.show()"
   ]
  },
  {
   "cell_type": "markdown",
   "metadata": {
    "application/vnd.databricks.v1+cell": {
     "cellMetadata": {
      "byteLimit": 2048000,
      "rowLimit": 10000
     },
     "inputWidgets": {},
     "nuid": "1ec6dae0-7715-4c45-a868-80d1a71969eb",
     "showTitle": false,
     "tableResultSettingsMap": {},
     "title": ""
    }
   },
   "source": [
    "**Interpretação dos Resultados:**\n",
    "\n",
    "Análise dos Resultados\n",
    "\n",
    "- Ranking de Engajamento Médio:\n",
    "\n",
    "YouTube lidera com 333,708 engajamentos médios\n",
    "\n",
    "Instagram muito próximo com 332,387\n",
    "\n",
    "Twitter em terceiro com 320,565\n",
    "\n",
    "TikTok ligeiramente atrás com 320,454\n",
    "\n",
    "- Visitas Médias:\n",
    "\n",
    "YouTube também lidera em visualizações (2,545,648)\n",
    "\n",
    "As outras plataformas mostram números muito próximos (~2.4-2.5 milhões)\n",
    "\n",
    "- Teste Estatístico:\n",
    "\n",
    "p-value = 0.0289 (< 0.05) confirma diferenças significativas\n",
    "\n",
    "H-statistic = 9.03 indica moderada variação entre grupos\n",
    "\n",
    "- Insights Principais\n",
    "\n",
    "Paradoxo do TikTok:\n",
    "\n",
    "Apesar de ser a plataforma \"viral\", aparece em último no engajamento\n",
    "\n",
    "Possíveis explicações:\n",
    "\n",
    "Conteúdo mais efêmero (vídeos curtos)\n",
    "\n",
    "Maior proporção de visualizações casuais\n",
    "\n",
    "Taxa de engajamento (engajamento/visualizações) pode ser diferente\n",
    "\n",
    "YouTube como Líder:\n",
    "\n",
    "Maior engajamento absoluto e visualizações\n",
    "\n",
    "Fator explicativo: conteúdo mais longo permite conexão mais profunda\n",
    "\n",
    "Instagram vs Twitter:\n",
    "\n",
    "Desempenho muito similar, com ligeira vantagem do Instagram\n",
    "\n",
    "Twitter tem engajamento mais concentrado (menor variância)\n"
   ]
  },
  {
   "cell_type": "markdown",
   "metadata": {
    "application/vnd.databricks.v1+cell": {
     "cellMetadata": {
      "byteLimit": 2048000,
      "rowLimit": 10000
     },
     "inputWidgets": {},
     "nuid": "04694458-0ebe-401d-85bf-b73bcf025db6",
     "showTitle": false,
     "tableResultSettingsMap": {},
     "title": ""
    }
   },
   "source": [
    "1.2 **Resposta da primeira questão:**\n",
    "\n",
    "\n",
    "O resultado da consulta mostra a média de visualizações (avg_views) e o score médio de engajamento (avg_engagement_score) por plataforma social. Vamos interpretar:\n",
    "\n",
    "**Significado das Colunas:**\n",
    "\n",
    "platform_name: Nome da plataforma social (TikTok, Instagram)\n",
    "\n",
    "avg_views: Média de visualizações dos posts\n",
    "\n",
    "avg_engagement_score: Média do score de engajamento calculado por (likes + shares + comments)/views\n",
    "\n",
    "**Interpretação dos Valores:**\n",
    "\n",
    "Plataforma\tMédia de Visualizações\tScore de Engajamento\tAnálise\n",
    "TikTok\t4,163,464\t0.097 (9.7%)\t- Conteúdo com maior alcance (mais visualizações)\n",
    "- Melhor taxa de engajamento (9.7% das visualizações se convertem em interações)\n",
    "Instagram\t4,155,940\t0.074 (7.4%)\t- Alcance similar ao TikTok\n",
    "- Engajamento ligeiramente menor\n",
    "Insights:\n",
    "TikTok performa melhor em termos de engajamento relativo (9.7% vs 7.4%)\n",
    "\n",
    "Ambas plataformas têm alcance muito similar em termos de visualizações médias (~4.1M)\n",
    "\n",
    "O engajamento entre 7-10% é considerado alto para redes sociais\n",
    "\n",
    "Recomendações:\n",
    "Priorize o TikTok se o objetivo for maximizar engajamento\n",
    "\n",
    "Mantenha presença no Instagram para alcance complementar\n",
    "\n",
    "Investigue por que o TikTok tem melhor taxa de conversão de views para engajamento\n",
    "\n",
    "**O score de 0.097 significa que para cada 100 visualizações no TikTok, há ~9.7 interações (curtidas + compartilhamentos + comentários).**\n",
    "\n"
   ]
  },
  {
   "cell_type": "markdown",
   "metadata": {
    "application/vnd.databricks.v1+cell": {
     "cellMetadata": {
      "byteLimit": 2048000,
      "rowLimit": 10000
     },
     "inputWidgets": {},
     "nuid": "de3fd868-2e08-4ed3-b008-41439d65636a",
     "showTitle": false,
     "tableResultSettingsMap": {},
     "title": ""
    }
   },
   "source": [
    "\n",
    "**2 - Segunda pergunta**\n",
    "\n",
    "**Quais hashtags estão associadas aos posts com maior engajamento (views, likes, shares, e comments)?**"
   ]
  },
  {
   "cell_type": "markdown",
   "metadata": {
    "application/vnd.databricks.v1+cell": {
     "cellMetadata": {
      "byteLimit": 2048000,
      "rowLimit": 10000
     },
     "inputWidgets": {},
     "nuid": "463df23e-de31-441c-8fb4-9ca6d828d582",
     "showTitle": false,
     "tableResultSettingsMap": {},
     "title": ""
    }
   },
   "source": [
    "O código abaixo realiza uma análise abrangente de hashtags em dados de mídia social usando PySpark:"
   ]
  },
  {
   "cell_type": "code",
   "execution_count": 0,
   "metadata": {
    "application/vnd.databricks.v1+cell": {
     "cellMetadata": {
      "byteLimit": 2048000,
      "rowLimit": 10000
     },
     "inputWidgets": {},
     "nuid": "d148a24a-c495-4dde-9140-f1e50900f291",
     "showTitle": false,
     "tableResultSettingsMap": {},
     "title": ""
    }
   },
   "outputs": [
    {
     "output_type": "stream",
     "name": "stdout",
     "output_type": "stream",
     "text": [
      "\nTop 10 Hashtags por Visualizações:\n+----------+-----------+\n|Hashtag   |Total_Views|\n+----------+-----------+\n|#Fitness  |1393273574 |\n|#Education|1328894615 |\n|#Music    |1266398079 |\n|#Challenge|1242826928 |\n|#Comedy   |1237321563 |\n|#Tech     |1235543295 |\n|#Dance    |1213891935 |\n|#Gaming   |1197834795 |\n|#Fashion  |1181866511 |\n|#Viral    |1172480925 |\n+----------+-----------+\n\n\nTop 10 Hashtags por Engajamento Médio:\n+----------+-------------------+\n|Hashtag   |Avg_Engagement     |\n+----------+-------------------+\n|#Viral    |0.38555900539738897|\n|#Comedy   |0.2518670717511234 |\n|#Gaming   |0.23288749901829894|\n|#Fitness  |0.2053795618866676 |\n|#Tech     |0.20205295279030977|\n|#Education|0.1912480049130991 |\n|#Fashion  |0.1841011116414152 |\n|#Dance    |0.1761111706858032 |\n|#Challenge|0.17268031887026575|\n|#Music    |0.14966263721176837|\n+----------+-------------------+\n\n\nTop 10 Hashtags por Interações Totais:\n+----------+------------------+\n|Hashtag   |Total_Interactions|\n+----------+------------------+\n|#Education|176849950         |\n|#Fitness  |176261423         |\n|#Comedy   |165555504         |\n|#Tech     |164207049         |\n|#Dance    |162989514         |\n|#Challenge|161024578         |\n|#Music    |159733450         |\n|#Fashion  |158340183         |\n|#Viral    |156406720         |\n|#Gaming   |153046557         |\n+----------+------------------+\n\n\nHashtags mais frequentes em posts de Alto Engajamento:\n+----------+----------+\n|Hashtag   |Post_Count|\n+----------+----------+\n|#Music    |183       |\n|#Comedy   |178       |\n|#Education|177       |\n|#Dance    |175       |\n|#Viral    |167       |\n|#Gaming   |166       |\n|#Fashion  |163       |\n|#Fitness  |157       |\n|#Challenge|157       |\n|#Tech     |150       |\n+----------+----------+\n\n\nTop Hashtags por Plataforma (maior engajamento médio):\n+---------+----------+-------------------+\n|Platform |Hashtag   |Avg_Engagement     |\n+---------+----------+-------------------+\n|Instagram|#Comedy   |0.5506993961366954 |\n|Instagram|#Fashion  |0.3324429507335082 |\n|Instagram|#Education|0.27397449459479417|\n|Instagram|#Viral    |0.2610886755389704 |\n|Instagram|#Gaming   |0.22837122437657284|\n|Instagram|#Fitness  |0.2280282936750531 |\n|Instagram|#Dance    |0.217883291504666  |\n|Instagram|#Challenge|0.14510322866071398|\n|Instagram|#Tech     |0.14451350318808695|\n|Instagram|#Music    |0.11385349760657892|\n|TikTok   |#Viral    |1.034990881637114  |\n|TikTok   |#Gaming   |0.20757883547325182|\n|TikTok   |#Comedy   |0.20009553453689174|\n|TikTok   |#Fitness  |0.18345390063564146|\n|TikTok   |#Dance    |0.16886618214187696|\n|TikTok   |#Fashion  |0.16146735811410703|\n|TikTok   |#Music    |0.14463557168136115|\n|TikTok   |#Tech     |0.13906701280772257|\n|TikTok   |#Challenge|0.11629946921227191|\n|TikTok   |#Education|0.11315480494006043|\n+---------+----------+-------------------+\nonly showing top 20 rows\n\n"
     ]
    }
   ],
   "source": [
    "\n",
    "from pyspark.sql.functions import col, desc, sum as _sum, avg, count\n",
    "\n",
    "# Criar sessão Spark\n",
    "spark = SparkSession.builder.appName(\"HashtagAnalysis\").getOrCreate()\n",
    "\n",
    "# Carregar os dados (substitua pelo caminho correto do seu arquivo)\n",
    "file_path = \"dbfs:/FileStore/mvp/Viral_Social_Media_Trends.csv\"\n",
    "df = spark.read.option(\"header\", \"true\").csv(file_path)\n",
    "\n",
    "# Converter colunas numéricas\n",
    "df = df.withColumn(\"Views\", col(\"Views\").cast(\"integer\")) \\\n",
    "       .withColumn(\"Likes\", col(\"Likes\").cast(\"integer\")) \\\n",
    "       .withColumn(\"Shares\", col(\"Shares\").cast(\"integer\")) \\\n",
    "       .withColumn(\"Comments\", col(\"Comments\").cast(\"integer\"))\n",
    "\n",
    "# Criar uma métrica combinada de engajamento (pesos podem ser ajustados)\n",
    "df = df.withColumn(\"Engagement_Score\", \n",
    "                  (col(\"Likes\") * 0.4 + col(\"Shares\") * 0.3 + col(\"Comments\") * 0.3) / col(\"Views\"))\n",
    "\n",
    "# Análise 1: Top hashtags por visualizações\n",
    "print(\"\\nTop 10 Hashtags por Visualizações:\")\n",
    "top_views = df.groupBy(\"Hashtag\") \\\n",
    "             .agg(_sum(\"Views\").alias(\"Total_Views\")) \\\n",
    "             .orderBy(desc(\"Total_Views\")) \\\n",
    "             .limit(10)\n",
    "top_views.show(truncate=False)\n",
    "\n",
    "# Análise 2: Top hashtags por engajamento médio\n",
    "print(\"\\nTop 10 Hashtags por Engajamento Médio:\")\n",
    "top_engagement = df.groupBy(\"Hashtag\") \\\n",
    "                  .agg(avg(\"Engagement_Score\").alias(\"Avg_Engagement\")) \\\n",
    "                  .orderBy(desc(\"Avg_Engagement\")) \\\n",
    "                  .limit(10)\n",
    "top_engagement.show(truncate=False)\n",
    "\n",
    "# Análise 3: Top hashtags por interações totais (likes + shares + comments)\n",
    "print(\"\\nTop 10 Hashtags por Interações Totais:\")\n",
    "top_interactions = df.groupBy(\"Hashtag\") \\\n",
    "                   .agg((_sum(\"Likes\") + _sum(\"Shares\") + _sum(\"Comments\")).alias(\"Total_Interactions\")) \\\n",
    "                   .orderBy(desc(\"Total_Interactions\")) \\\n",
    "                   .limit(10)\n",
    "top_interactions.show(truncate=False)\n",
    "\n",
    "# Análise 4: Hashtags mais frequentes em posts de alto engajamento\n",
    "print(\"\\nHashtags mais frequentes em posts de Alto Engajamento:\")\n",
    "high_engagement = df.filter(col(\"Engagement_Level\") == \"High\")\n",
    "top_frequent_hashtags = high_engagement.groupBy(\"Hashtag\") \\\n",
    "                                     .agg(count(\"*\").alias(\"Post_Count\")) \\\n",
    "                                     .orderBy(desc(\"Post_Count\")) \\\n",
    "                                     .limit(10)\n",
    "top_frequent_hashtags.show(truncate=False)\n",
    "\n",
    "# Análise 5: Hashtags com melhor desempenho por plataforma\n",
    "print(\"\\nTop Hashtags por Plataforma (maior engajamento médio):\")\n",
    "df.groupBy(\"Platform\", \"Hashtag\") \\\n",
    " .agg(avg(\"Engagement_Score\").alias(\"Avg_Engagement\")) \\\n",
    " .orderBy(\"Platform\", desc(\"Avg_Engagement\")) \\\n",
    " .show(truncate=False)"
   ]
  },
  {
   "cell_type": "markdown",
   "metadata": {
    "application/vnd.databricks.v1+cell": {
     "cellMetadata": {
      "byteLimit": 2048000,
      "rowLimit": 10000
     },
     "inputWidgets": {},
     "nuid": "789dc0aa-c12a-48b1-bc8b-88ee92300292",
     "showTitle": false,
     "tableResultSettingsMap": {},
     "title": ""
    }
   },
   "source": [
    "**Analisando os resultados:**\n",
    "\n",
    "**Análise Detalhada dos Resultados das Hashtags**\n",
    "\n",
    "**1. Top Hashtags por Visualizações:**\n",
    "\n",
    "\n",
    "**Destaques**:\n",
    "\n",
    "- Fitness lidera com 1.39 bilhões de visualizações\n",
    "- Education e #Music completam o top 3 com mais de 1.26 bilhões cada\n",
    "- Todas as hashtags no top 10 ultrapassam 1.17 bilhão de views\n",
    "\n",
    "**Interpretação**:\n",
    "\n",
    "- Temas relacionados a saúde (#Fitness), educação (#Education) e entretenimento (#Music, #Comedy) dominam em alcance\n",
    "- A pequena diferença entre 1º e 10º lugar (apenas ~15%) indica que estas hashtags têm popularidade similar em termos de alcance\n",
    "\n",
    "**2. Top Hashtags por Engajamento Médio**\n",
    "\n",
    "\n",
    "**Destaques**:\n",
    "\n",
    "\n",
    "- Viral tem engajamento excepcional (0.385 - 38.5%)\n",
    "- Comedy e #Gaming formam o segundo grupo (23-25%)\n",
    "- Music, apesar de popular, tem o menor engajamento relativo (14.9%)\n",
    "\n",
    "**Insights**:\n",
    "\n",
    "\n",
    "- Hashtags virais (#Viral) geram quase 2.5x mais engajamento que a média\n",
    "- Entretenimento (#Comedy, #Gaming) supera áreas mais sérias (#Education, #Tech) em engajamento\n",
    "- Existe uma correlação inversa moderada entre alcance e engajamento - hashtags muito populares tendem a ter engajamento relativo menor\n",
    "\n",
    " 3. **Top Hashtags por Interações Totais:**\n",
    "\n",
    "\n",
    "**Observações**:\n",
    "\n",
    "- Education lidera com 176.8M interações, seguido por #Fitness (176.2M)\n",
    "- A diferença entre 1º e 10º é apenas ~13%\n",
    "- Ranking similar ao de visualizações, mas com #Viral caindo para 9º lugar\n",
    "\n",
    "**Análise**:\n",
    "\n",
    "- Hashtags educacionais e de fitness geram mais ações totais, apesar de não terem o maior engajamento relativo\n",
    "- Volume de posts compensa engajamento médio menor\n",
    "- Viral mostra que alto engajamento não necessariamente se traduz em mais interações totais\n",
    "\n",
    "4. Hashtags em Posts de Alto Engajamento\n",
    "\n",
    "**Padrões**:\n",
    "\n",
    "- Music aparece em mais posts de alto engajamento (183)\n",
    "- Comedy e #Education seguem muito próximas\n",
    "- Todos os top 10 aparecem em pelo menos 150 posts\n",
    "\n",
    "**Implicações**:\n",
    "\n",
    "- Música e comédia são conteúdos consistentemente engajadores\n",
    "- Mesmo hashtags com engajamento médio menor (#Music) podem ser frequentes em posts de alto desempenho\n",
    "- Sugere que o contexto de uso da hashtag é tão importante quanto a hashtag em si\n",
    "\n",
    " 5. Desempenho por Plataforma\n",
    "\n",
    "**Descobertas Chave**:\n",
    "\n",
    "- **TikTok**:\n",
    "  - Viral tem engajamento extraordinário (1.03 - 103%)\n",
    "  - Dominância clara de conteúdo viral e entretenimento (#Gaming, #Comedy)\n",
    "  \n",
    "- **Instagram**:\n",
    "  - Comedy lidera (55% de engajamento)\n",
    "  - Fashion tem desempenho 2x melhor que no TikTok\n",
    "  - Conteúdo educacional performa relativamente melhor\n",
    "\n",
    "**Diferenças entre Plataformas**:\n",
    "- TikTok favorece conteúdo espontâneo/viral\n",
    "- Instagram recompensa melhor conteúdo produzido (moda, comédia profissional)\n",
    "- Estratégias de hashtag devem ser adaptadas por plataforma\n",
    "\n",
    " Conclusões Estratégicas\n",
    "\n",
    "1. **Para alcance máximo**: Use #Fitness, #Education ou #Music\n",
    "2. **Para engajamento**: Priorize #Viral (especialmente no TikTok) e #Comedy\n",
    "3. **Conteúdo consistente**: #Music e #Comedy aparecem frequentemente em posts de alto engajamento\n",
    "4. **Plataforma específica**:\n",
    "   - TikTok: conteúdo viral e autêntico\n",
    "   - Instagram: comédia profissional e moda\n",
    "5. **Hashtags híbridas**: #Education e #Fitness performam bem em todas as métricas\n",
    "\n",
    "**Recomendação final**: Combinação de hashtags de alto alcance (#Fitness) com hashtags de alto engajamento (#Viral) pode maximizar performance, ajustando a estratégia para cada plataforma."
   ]
  },
  {
   "cell_type": "markdown",
   "metadata": {
    "application/vnd.databricks.v1+cell": {
     "cellMetadata": {
      "byteLimit": 2048000,
      "rowLimit": 10000
     },
     "inputWidgets": {},
     "nuid": "082a91fe-9da9-4784-a8b7-8dfb739220a5",
     "showTitle": false,
     "tableResultSettingsMap": {},
     "title": ""
    }
   },
   "source": [
    "**Código para uma análise avançada de hashtags em dados de mídia social, utilizando PySpark para processamento distribuído e matplotlib/seaborn para visualização:**"
   ]
  },
  {
   "cell_type": "code",
   "execution_count": 0,
   "metadata": {
    "application/vnd.databricks.v1+cell": {
     "cellMetadata": {
      "byteLimit": 2048000,
      "rowLimit": 10000
     },
     "inputWidgets": {},
     "nuid": "72802539-d64c-4861-81df-dfefd82f00d3",
     "showTitle": false,
     "tableResultSettingsMap": {},
     "title": ""
    }
   },
   "outputs": [
    {
     "output_type": "stream",
     "name": "stdout",
     "output_type": "stream",
     "text": [
      "Top 20 Hashtags por Engajamento:\n+----------+-----------------+------------------+------------------+------------------+------------------+---------+\n|Hashtag   |Avg_Engagement   |Avg_Views         |Avg_Likes         |Avg_Shares        |Avg_Comments      |Frequency|\n+----------+-----------------+------------------+------------------+------------------+------------------+---------+\n|#Fitness  |616078.7113805972|2599390.9962686566|253130.125        |51183.119402985074|24532.694029850747|536      |\n|#Music    |608450.1888438131|2568758.780933063 |248012.8154158215 |50965.62880324544 |25024.49695740365 |493      |\n|#Education|604834.1895238099|2531227.838095238 |260423.41904761904|51748.70476190476 |24684.92380952381 |525      |\n|#Tech     |601026.5087576384|2516381.456211813 |260347.14867617108|48287.209775967414|25799.549898167006|491      |\n|#Gaming   |593460.3588726508|2500698.9457202507|242819.58872651358|51360.818371607515|25332.237995824635|479      |\n|#Comedy   |585898.257623763 |2450141.7089108913|253615.74653465347|49418.0495049505  |24798.88514851485 |505      |\n|#Dance    |585598.4173387096|2447362.772177419 |254484.8891129032 |49557.957661290326|24565.04435483871 |496      |\n|#Challenge|583027.0631163707|2451335.1637080866|241212.43984220907|51182.428007889546|25207.85009861933 |507      |\n|#Viral    |582591.3735966736|2437590.2806652808|249964.49272349273|50428.889812889814|24776.513513513513|481      |\n|#Fashion  |580485.6449691994|2426830.618069815 |249970.57700205338|50956.94455852156 |24206.324435318274|487      |\n+----------+-----------------+------------------+------------------+------------------+------------------+---------+\n\n"
     ]
    },
    {
     "output_type": "display_data",
     "data": {
      "image/png": "[encoded data removed]"
     },
     "metadata": {
      "application/vnd.databricks.v1+output": {
       "addedWidgets": {},
       "arguments": {},
       "data": "data:image/png;base64,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\n",
       "datasetInfos": [],
       "metadata": {},
       "removedWidgets": [],
       "type": "image"
      }
     },
     "output_type": "display_data"
    },
    {
     "output_type": "stream",
     "name": "stdout",
     "output_type": "stream",
     "text": [
      "\nTop Hashtags por Tipo de Conteúdo:\n+-----------------+----------+-----------------+---------+\n|post_content_type|Hashtag   |Avg_Engagement   |Frequency|\n+-----------------+----------+-----------------+---------+\n|Reel             |#Education|692652.4873563218|87       |\n|Video            |#Education|663962.0848101263|79       |\n|Shorts           |#Fitness  |646984.407777778 |90       |\n|Reel             |#Music    |635409.9144329899|97       |\n|Tweet            |#Fitness  |633881.4000000004|81       |\n|Tweet            |#Viral    |633233.2939393941|66       |\n|Post             |#Music    |632100.2329113922|79       |\n|Live Stream      |#Fitness  |628134.3806818181|88       |\n|Post             |#Comedy   |627579.1916666669|84       |\n|Live Stream      |#Tech     |624024.1226190475|84       |\n|Reel             |#Fashion  |623913.9764705881|85       |\n|Post             |#Fitness  |623691.481111111 |90       |\n|Tweet            |#Music    |623501.93908046  |87       |\n|Live Stream      |#Dance    |619474.051724138 |87       |\n|Tweet            |#Dance    |610201.332051282 |78       |\n|Shorts           |#Music    |610118.1484848486|66       |\n|Post             |#Gaming   |608679.685185185 |81       |\n|Live Stream      |#Gaming   |608588.6955223882|67       |\n|Video            |#Tech     |607998.9285714288|84       |\n|Tweet            |#Tech     |607499.7185185185|81       |\n+-----------------+----------+-----------------+---------+\nonly showing top 20 rows\n\n"
     ]
    }
   ],
   "source": [
    "from pyspark.sql.functions import col, explode, split, count, mean, desc, trim, length\n",
    "\n",
    "# Inicializar Spark\n",
    "spark = SparkSession.builder.appName(\"HashtagAnalysis\").getOrCreate()\n",
    "\n",
    "# 1. Carregar dados\n",
    "df = spark.read.format(\"delta\").load(\"/mnt/delta/viral_social_media_data\")\n",
    "\n",
    "# 2. Pré-processamento de hashtags\n",
    "hashtag_df = (df\n",
    "              .withColumn(\"Hashtag\", explode(split(col(\"Hashtag\"), \",\")))\n",
    "              .withColumn(\"Hashtag\", trim(col(\"Hashtag\")))\n",
    "              .filter(length(col(\"Hashtag\")) > 2)\n",
    "              .select(\"Post_ID\", \"Hashtag\"))  # Selecionar apenas colunas necessárias\n",
    "\n",
    "# 3. Calcular engajamento total\n",
    "df_with_engagement = df.withColumn(\n",
    "    \"Total_Engagement\",\n",
    "    (col(\"Views\")*0.2 + col(\"Likes\")*0.3 + col(\"Shares\")*0.3 + col(\"Comments\")*0.2)\n",
    ").select(\n",
    "    \"Post_ID\",\n",
    "    col(\"Views\").alias(\"post_views\"),\n",
    "    col(\"Likes\").alias(\"post_likes\"),\n",
    "    col(\"Shares\").alias(\"post_shares\"),\n",
    "    col(\"Comments\").alias(\"post_comments\"),\n",
    "    \"Total_Engagement\",\n",
    "    col(\"Content_Type\").alias(\"post_content_type\")  # Renomeando para evitar ambiguidade\n",
    ")\n",
    "\n",
    "# 4. Juntar os DataFrames\n",
    "hashtag_engagement = hashtag_df.join(\n",
    "    df_with_engagement,\n",
    "    \"Post_ID\"\n",
    ")\n",
    "\n",
    "# 5. Análise das hashtags mais engajadoras\n",
    "top_hashtags = (hashtag_engagement.groupBy(\"Hashtag\")\n",
    "                .agg(\n",
    "                    mean(\"Total_Engagement\").alias(\"Avg_Engagement\"),\n",
    "                    mean(\"post_views\").alias(\"Avg_Views\"),\n",
    "                    mean(\"post_likes\").alias(\"Avg_Likes\"),\n",
    "                    mean(\"post_shares\").alias(\"Avg_Shares\"),\n",
    "                    mean(\"post_comments\").alias(\"Avg_Comments\"),\n",
    "                    count(\"*\").alias(\"Frequency\")\n",
    "                )\n",
    "                .filter(col(\"Frequency\") > 10)\n",
    "                .orderBy(desc(\"Avg_Engagement\")))\n",
    "\n",
    "# Mostrar as top 20 hashtags\n",
    "print(\"Top 20 Hashtags por Engajamento:\")\n",
    "top_hashtags.show(20, truncate=False)\n",
    "\n",
    "# 6. Visualização\n",
    "top_hashtags_pd = top_hashtags.limit(20).toPandas()\n",
    "\n",
    "plt.figure(figsize=(15, 10))\n",
    "plt.subplot(2, 2, 1)\n",
    "sns.barplot(data=top_hashtags_pd, y=\"Hashtag\", x=\"Avg_Engagement\")\n",
    "plt.title(\"Top Hashtags por Engajamento Médio\")\n",
    "\n",
    "plt.subplot(2, 2, 2)\n",
    "sns.barplot(data=top_hashtags_pd, y=\"Hashtag\", x=\"Frequency\")\n",
    "plt.title(\"Frequência das Hashtags\")\n",
    "\n",
    "plt.subplot(2, 2, 3)\n",
    "sns.barplot(data=top_hashtags_pd, y=\"Hashtag\", x=\"Avg_Views\")\n",
    "plt.title(\"Visualizações Médias\")\n",
    "\n",
    "plt.subplot(2, 2, 4)\n",
    "corr = top_hashtags_pd[[\"Avg_Views\", \"Avg_Likes\", \"Avg_Shares\", \"Avg_Comments\"]].corr()\n",
    "sns.heatmap(corr, annot=True, cmap=\"coolwarm\", fmt=\".2f\", vmin=-1, vmax=1)\n",
    "plt.title(\"Correlação entre Métricas\")\n",
    "\n",
    "plt.tight_layout()\n",
    "plt.show()\n",
    "\n",
    "# 7. Análise por tipo de conteúdo (AGORA CORRIGIDA)\n",
    "print(\"\\nTop Hashtags por Tipo de Conteúdo:\")\n",
    "content_hashtags = (hashtag_engagement\n",
    "                    .groupBy(\"post_content_type\", \"Hashtag\")  # Usando o alias definido\n",
    "                    .agg(\n",
    "                        mean(\"Total_Engagement\").alias(\"Avg_Engagement\"),\n",
    "                        count(\"*\").alias(\"Frequency\")\n",
    "                    )\n",
    "                    .orderBy(desc(\"Avg_Engagement\")))\n",
    "\n",
    "content_hashtags.show(20, truncate=False)"
   ]
  },
  {
   "cell_type": "markdown",
   "metadata": {
    "application/vnd.databricks.v1+cell": {
     "cellMetadata": {
      "byteLimit": 2048000,
      "rowLimit": 10000
     },
     "inputWidgets": {},
     "nuid": "a1b57e56-ed37-4f8f-9615-4486d08fbbef",
     "showTitle": false,
     "tableResultSettingsMap": {},
     "title": ""
    }
   },
   "source": [
    "**Interpretação dos Resultados**\n",
    "\n",
    "\n",
    "A análise dos gráficos revela algumas tendências interessantes sobre o desempenho das hashtags e a relação entre diferentes métricas de engajamento em posts virais. Aqui estão algumas conclusões principais:\n",
    "\n",
    "**Hashtags de Maior Impacto**\n",
    "\n",
    "- Fitness, Music e Education aparecem consistentemente entre as hashtags mais engajadas, mais visualizadas e mais frequentes. Isso sugere que conteúdos relacionados a esses temas tendem a performar bem nas redes sociais.\n",
    "\n",
    "- Tech e #Gaming também têm alto engajamento e frequência, indicando que temas de tecnologia e jogos são populares.\n",
    "\n",
    "**Popularidade vs. Engajamento**\n",
    "\n",
    "Algumas hashtags são muito frequentes, mas não necessariamente estão entre as mais engajadas. Isso pode indicar que, embora sejam amplamente usadas, nem sempre geram grande interação.\n",
    "\n",
    "O fato de #Fitness liderar tanto em engajamento quanto em frequência sugere que essa é uma hashtag poderosa para aumentar a interação.\n",
    "\n",
    "**Métricas de Visualização e Engajamento**\n",
    "\n",
    "Os gráficos mostram que posts com certas hashtags têm milhões de visualizações, mas isso nem sempre se traduz em altos níveis de curtidas, compartilhamentos ou comentários.\n",
    "\n",
    "Isso indica que visualizações sozinhas não são um bom indicador de engajamento real.\n",
    "\n",
    "**Correlação Entre Métricas**\n",
    "\n",
    "A baixa correlação entre visualizações e curtidas (0.22) sugere que um post pode alcançar muitas pessoas, mas isso não significa que elas interajam com ele.\n",
    "\n",
    "A correlação moderada entre curtidas e compartilhamentos (0.46) indica que posts que recebem muitas curtidas também têm chances razoáveis de serem compartilhados.\n",
    "\n",
    "O fato de comentários apresentarem correlação fraca ou negativa com outras métricas sugere que as pessoas tendem a comentar menos em posts que são amplamente compartilhados. Isso pode indicar que posts virais são consumidos rapidamente, mas não necessariamente incentivam discussão."
   ]
  },
  {
   "cell_type": "markdown",
   "metadata": {
    "application/vnd.databricks.v1+cell": {
     "cellMetadata": {
      "byteLimit": 2048000,
      "rowLimit": 10000
     },
     "inputWidgets": {},
     "nuid": "b56b9f35-4f0e-4dab-a9d8-c21de1119ce1",
     "showTitle": false,
     "tableResultSettingsMap": {},
     "title": ""
    }
   },
   "source": [
    "**Análise Detalhada das Hashtags com Maior Engajamento**\n",
    "\n",
    "**1.Hashtags com Maior Alcance (Visualizações)\n",
    "Top 3: #Fitness (1.39B), #Education (1.33B), #Music (1.27B)**\n",
    "\n",
    "Padrão observado: Hashtags relacionadas a conteúdo utilitário (#Fitness, #Education) e entretenimento (#Music) dominam o alcance. Isso sugere que:\n",
    "\n",
    "Conteúdo educacional e de bem-estar tem apelo massivo\n",
    "\n",
    "Entretenimento musical continua sendo um dos principais motores de consumo\n",
    "\n",
    "**2. Hashtags com Maior Taxa de Engajamento**\n",
    "\n",
    "Destaque absoluto: Viral com 38.5% de engajamento médio (quase o dobro da segunda colocada)**\n",
    "\n",
    "Hierarquia de performance:\n",
    "\n",
    "Viral (38.6%)\n",
    "\n",
    "Comedy (25.2%)\n",
    "\n",
    "Gaming (23.3%)\n",
    "\n",
    "Insight crucial: Hashtags com propósito específico de viralização (#Viral) e conteúdo emocional (#Comedy) convertem muito melhor views em interações, indicando:\n",
    "\n",
    "Conteúdo humorístico tem altíssima taxa de conversão\n",
    "\n",
    "O nicho gamer é extremamente engajado proporcionalmente\n",
    "\n",
    "**3. Hashtags com Maior Volume Absoluto de Interações\n",
    "Líderes: #Education (176M), #Fitness (176M), #Comedy (165M)**\n",
    "\n",
    "Contradição aparente: #Education aparece em 2° nas views mas lidera em interações totais, revelando:\n",
    "\n",
    "Conteúdo educacional gera discussão sustentada\n",
    "\n",
    "Alta retenção e engajamento profundo (comentários)\n",
    "\n",
    "**4. Frequência em Posts de Alto Engajamento\n",
    "Presença constante: #Music (183), #Comedy (178), #Education (177)**\n",
    "\n",
    "Interpretação: A frequência equilibrada entre as principais hashtags indica que:\n",
    "\n",
    "Diversificação de conteúdo é estratégia vencedora\n",
    "\n",
    "Nenhuma hashtag domina exclusivamente o engajamento alto\n",
    "\n",
    "**5. Performance por Plataforma\n",
    "Destaques por rede:**\n",
    "\n",
    "Instagram: #Comedy (55.1%) e #Fashion (33.2%) performam excepcionalmente\n",
    "\n",
    "TikTok: #Viral tem engajamento estratosférico (103.5%!) sugerindo:\n",
    "\n",
    "Algoritmo privilegia conteúdo viral potencial\n",
    "\n",
    "Taxas acima de 100% indicam que interações superam views (possível contagem diferenciada)\n",
    "\n",
    "Diferenças cruciais:\n",
    "\n",
    "Comedy tem performance 2.75× melhor no Instagram\n",
    "\n",
    "Viral é 27× mais eficaz no TikTok\n",
    "\n",
    "Priorizar #Viral com conteúdo altamente compartilhável\n",
    "\n",
    "Capitalizar o engajamento anormalmente alto com desafios e trends\n",
    "\n",
    "Estratégia Instagram:\n",
    "\n",
    "Investir pesado em #Comedy e #Fashion\n",
    "\n",
    "Explorar formatos Reels com humor e moda\n",
    "\n",
    "Conteúdo Cross-Platform:\n",
    "\n",
    "Education funciona bem em todas as plataformas\n",
    "\n",
    "Adaptar formato: vídeos curtos no TikTok, carrosséis no Instagram\n",
    "\n",
    "Alerta de Oportunidade:\n",
    "\n",
    "Tech tem alto volume (4° em views) mas engajamento médio (20.2%)\n",
    "\n",
    "Espaço para melhorar a conversão com calls-to-action mais efetivos\n",
    "\n",
    "Monitoramento Contínuo:\n",
    "\n",
    "Acompanhar a queda relativa de #Music (último em engajamento)\n",
    "\n",
    "Investigar por que #Challenge tem baixo engajamento (17.3%) apesar do alto volume\n",
    "\n",
    "## 9.Conclusão:\n",
    "\n",
    " A hashtag #Viral é a mais poderosa no contexto atual, especialmente no TikTok, enquanto #Education oferece o melhor equilíbrio entre alcance e engajamento sustentado. A plataforma escolhida deve ditar a estratégia de hashtags, com diferenças marcantes de performance entre Instagram e TikTok.\n",
    "\n"
   ]
  },
  {
   "cell_type": "markdown",
   "metadata": {
    "application/vnd.databricks.v1+cell": {
     "cellMetadata": {
      "byteLimit": 2048000,
      "rowLimit": 10000
     },
     "inputWidgets": {},
     "nuid": "b51351d9-62bc-4843-b059-e53297080c4e",
     "showTitle": false,
     "tableResultSettingsMap": {},
     "title": ""
    }
   },
   "source": [
    "## 10. Autoavaliação:\n",
    "\n",
    "Ao finalizar, foi possível responder as duas perguntas propostas no começo do trabalho.\n",
    "\n",
    "O uso do Databricks e PySpark para processamento de dados em larga escala foi adequado para o tipo de análise proposta.\n",
    "\n",
    "Com relação aos desafios, a criação do esquema estrela e a definição das tabelas de fatos e dimensões podem ser complexas, especialmente para quem está começando com modelagem dimensional.\n",
    "Acredito que seja possível fazer um estudo mais aprofundado do tema\n",
    "\n",
    "**Este é minha última matéria e último MVP para concluir a pós graduação e apesar de existirem modos de apronfudar o estudo com esse dataset, fique satisfeita com os resultados**"
   ]
  }
 ],
 "metadata": {
  "application/vnd.databricks.v1+notebook": {
   "computePreferences": null,
   "dashboards": [],
   "environmentMetadata": {
    "base_environment": "",
    "environment_version": "1"
   },
   "inputWidgetPreferences": null,
   "language": "python",
   "notebookMetadata": {
    "pythonIndentUnit": 4
   },
   "notebookName": "Ciencia de Dados mvp 3",
   "widgets": {}
  }
 },
 "nbformat": 4,
 "nbformat_minor": 0
}